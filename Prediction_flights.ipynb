{
 "cells": [
  {
   "cell_type": "code",
   "execution_count": 1,
   "metadata": {},
   "outputs": [],
   "source": [
    "import pandas as pd\n",
    "import numpy as np\n",
    "import matplotlib.pyplot as plt\n",
    "import seaborn as sns\n",
    "import os"
   ]
  },
  {
   "cell_type": "code",
   "execution_count": 2,
   "metadata": {},
   "outputs": [],
   "source": [
    "pwd = os.getcwd()\n",
    "\n",
    "df = pd.read_csv(pwd + '/flights.csv')"
   ]
  },
  {
   "cell_type": "code",
   "execution_count": 3,
   "metadata": {},
   "outputs": [
    {
     "data": {
      "text/html": [
       "<div>\n",
       "<style scoped>\n",
       "    .dataframe tbody tr th:only-of-type {\n",
       "        vertical-align: middle;\n",
       "    }\n",
       "\n",
       "    .dataframe tbody tr th {\n",
       "        vertical-align: top;\n",
       "    }\n",
       "\n",
       "    .dataframe thead th {\n",
       "        text-align: right;\n",
       "    }\n",
       "</style>\n",
       "<table border=\"1\" class=\"dataframe\">\n",
       "  <thead>\n",
       "    <tr style=\"text-align: right;\">\n",
       "      <th></th>\n",
       "      <th>year</th>\n",
       "      <th>month</th>\n",
       "      <th>passengers</th>\n",
       "    </tr>\n",
       "  </thead>\n",
       "  <tbody>\n",
       "    <tr>\n",
       "      <th>134</th>\n",
       "      <td>1960</td>\n",
       "      <td>March</td>\n",
       "      <td>419</td>\n",
       "    </tr>\n",
       "    <tr>\n",
       "      <th>135</th>\n",
       "      <td>1960</td>\n",
       "      <td>April</td>\n",
       "      <td>461</td>\n",
       "    </tr>\n",
       "    <tr>\n",
       "      <th>136</th>\n",
       "      <td>1960</td>\n",
       "      <td>May</td>\n",
       "      <td>472</td>\n",
       "    </tr>\n",
       "    <tr>\n",
       "      <th>137</th>\n",
       "      <td>1960</td>\n",
       "      <td>June</td>\n",
       "      <td>535</td>\n",
       "    </tr>\n",
       "    <tr>\n",
       "      <th>138</th>\n",
       "      <td>1960</td>\n",
       "      <td>July</td>\n",
       "      <td>622</td>\n",
       "    </tr>\n",
       "    <tr>\n",
       "      <th>139</th>\n",
       "      <td>1960</td>\n",
       "      <td>August</td>\n",
       "      <td>606</td>\n",
       "    </tr>\n",
       "    <tr>\n",
       "      <th>140</th>\n",
       "      <td>1960</td>\n",
       "      <td>September</td>\n",
       "      <td>508</td>\n",
       "    </tr>\n",
       "    <tr>\n",
       "      <th>141</th>\n",
       "      <td>1960</td>\n",
       "      <td>October</td>\n",
       "      <td>461</td>\n",
       "    </tr>\n",
       "    <tr>\n",
       "      <th>142</th>\n",
       "      <td>1960</td>\n",
       "      <td>November</td>\n",
       "      <td>390</td>\n",
       "    </tr>\n",
       "    <tr>\n",
       "      <th>143</th>\n",
       "      <td>1960</td>\n",
       "      <td>December</td>\n",
       "      <td>432</td>\n",
       "    </tr>\n",
       "  </tbody>\n",
       "</table>\n",
       "</div>"
      ],
      "text/plain": [
       "     year      month  passengers\n",
       "134  1960      March         419\n",
       "135  1960      April         461\n",
       "136  1960        May         472\n",
       "137  1960       June         535\n",
       "138  1960       July         622\n",
       "139  1960     August         606\n",
       "140  1960  September         508\n",
       "141  1960    October         461\n",
       "142  1960   November         390\n",
       "143  1960   December         432"
      ]
     },
     "execution_count": 3,
     "metadata": {},
     "output_type": "execute_result"
    }
   ],
   "source": [
    "df.tail(10)"
   ]
  },
  {
   "cell_type": "code",
   "execution_count": 4,
   "metadata": {},
   "outputs": [
    {
     "data": {
      "text/plain": [
       "(144, 3)"
      ]
     },
     "execution_count": 4,
     "metadata": {},
     "output_type": "execute_result"
    }
   ],
   "source": [
    "df.shape"
   ]
  },
  {
   "cell_type": "code",
   "execution_count": 5,
   "metadata": {},
   "outputs": [
    {
     "data": {
      "text/plain": [
       "Index(['year', 'month', 'passengers'], dtype='object')"
      ]
     },
     "execution_count": 5,
     "metadata": {},
     "output_type": "execute_result"
    }
   ],
   "source": [
    "df.columns"
   ]
  },
  {
   "cell_type": "code",
   "execution_count": 6,
   "metadata": {},
   "outputs": [
    {
     "data": {
      "text/plain": [
       "year          0\n",
       "month         0\n",
       "passengers    0\n",
       "dtype: int64"
      ]
     },
     "execution_count": 6,
     "metadata": {},
     "output_type": "execute_result"
    }
   ],
   "source": [
    "# Check for missing values\n",
    "df.isnull().sum()"
   ]
  },
  {
   "cell_type": "code",
   "execution_count": 7,
   "metadata": {},
   "outputs": [],
   "source": [
    "# Convert month names to numbers\n",
    "df['month'] = pd.to_datetime(df['month'], format='%B').dt.month\n",
    "\n",
    "# Create a datetime column\n",
    "df['date'] = pd.to_datetime(df[['year', 'month']].assign(day=1))"
   ]
  },
  {
   "cell_type": "code",
   "execution_count": 8,
   "metadata": {},
   "outputs": [
    {
     "data": {
      "text/html": [
       "<div>\n",
       "<style scoped>\n",
       "    .dataframe tbody tr th:only-of-type {\n",
       "        vertical-align: middle;\n",
       "    }\n",
       "\n",
       "    .dataframe tbody tr th {\n",
       "        vertical-align: top;\n",
       "    }\n",
       "\n",
       "    .dataframe thead th {\n",
       "        text-align: right;\n",
       "    }\n",
       "</style>\n",
       "<table border=\"1\" class=\"dataframe\">\n",
       "  <thead>\n",
       "    <tr style=\"text-align: right;\">\n",
       "      <th></th>\n",
       "      <th>year</th>\n",
       "      <th>month</th>\n",
       "      <th>passengers</th>\n",
       "      <th>date</th>\n",
       "    </tr>\n",
       "  </thead>\n",
       "  <tbody>\n",
       "    <tr>\n",
       "      <th>0</th>\n",
       "      <td>1949</td>\n",
       "      <td>1</td>\n",
       "      <td>112</td>\n",
       "      <td>1949-01-01</td>\n",
       "    </tr>\n",
       "    <tr>\n",
       "      <th>1</th>\n",
       "      <td>1949</td>\n",
       "      <td>2</td>\n",
       "      <td>118</td>\n",
       "      <td>1949-02-01</td>\n",
       "    </tr>\n",
       "    <tr>\n",
       "      <th>2</th>\n",
       "      <td>1949</td>\n",
       "      <td>3</td>\n",
       "      <td>132</td>\n",
       "      <td>1949-03-01</td>\n",
       "    </tr>\n",
       "    <tr>\n",
       "      <th>3</th>\n",
       "      <td>1949</td>\n",
       "      <td>4</td>\n",
       "      <td>129</td>\n",
       "      <td>1949-04-01</td>\n",
       "    </tr>\n",
       "    <tr>\n",
       "      <th>4</th>\n",
       "      <td>1949</td>\n",
       "      <td>5</td>\n",
       "      <td>121</td>\n",
       "      <td>1949-05-01</td>\n",
       "    </tr>\n",
       "  </tbody>\n",
       "</table>\n",
       "</div>"
      ],
      "text/plain": [
       "   year  month  passengers       date\n",
       "0  1949      1         112 1949-01-01\n",
       "1  1949      2         118 1949-02-01\n",
       "2  1949      3         132 1949-03-01\n",
       "3  1949      4         129 1949-04-01\n",
       "4  1949      5         121 1949-05-01"
      ]
     },
     "execution_count": 8,
     "metadata": {},
     "output_type": "execute_result"
    }
   ],
   "source": [
    "df.head()"
   ]
  },
  {
   "cell_type": "code",
   "execution_count": 9,
   "metadata": {},
   "outputs": [
    {
     "data": {
      "image/png": "[encoded data removed]",
      "text/plain": [
       "<Figure size 1000x600 with 1 Axes>"
      ]
     },
     "metadata": {},
     "output_type": "display_data"
    }
   ],
   "source": [
    "#graph of the times series of the number of flights\n",
    "plt.figure(figsize=(10,6))\n",
    "sns.lineplot(x='date', y='passengers', data=df)\n",
    "plt.title('Number of flights per day')\n",
    "plt.ylabel('Number of flights')\n",
    "plt.show()\n"
   ]
  },
  {
   "cell_type": "markdown",
   "metadata": {},
   "source": [
    "## Modelo de série temporal"
   ]
  },
  {
   "cell_type": "code",
   "execution_count": 10,
   "metadata": {},
   "outputs": [],
   "source": [
    "from statsmodels.tsa.statespace.sarimax import SARIMAX"
   ]
  },
  {
   "cell_type": "code",
   "execution_count": 11,
   "metadata": {},
   "outputs": [],
   "source": [
    "# Fit SARIMA model (Seasonal ARIMA)\n",
    "model = SARIMAX(df['passengers'], order=(1,1,1), seasonal_order=(1,1,1,12))\n",
    "result = model.fit()"
   ]
  },
  {
   "cell_type": "code",
   "execution_count": 12,
   "metadata": {},
   "outputs": [
    {
     "data": {
      "text/html": [
       "<table class=\"simpletable\">\n",
       "<caption>SARIMAX Results</caption>\n",
       "<tr>\n",
       "  <th>Dep. Variable:</th>             <td>passengers</td>           <th>  No. Observations:  </th>    <td>144</td>  \n",
       "</tr>\n",
       "<tr>\n",
       "  <th>Model:</th>           <td>SARIMAX(1, 1, 1)x(1, 1, 1, 12)</td> <th>  Log Likelihood     </th> <td>-506.149</td>\n",
       "</tr>\n",
       "<tr>\n",
       "  <th>Date:</th>                   <td>Mon, 17 Feb 2025</td>        <th>  AIC                </th> <td>1022.299</td>\n",
       "</tr>\n",
       "<tr>\n",
       "  <th>Time:</th>                       <td>23:48:29</td>            <th>  BIC                </th> <td>1036.675</td>\n",
       "</tr>\n",
       "<tr>\n",
       "  <th>Sample:</th>                         <td>0</td>               <th>  HQIC               </th> <td>1028.140</td>\n",
       "</tr>\n",
       "<tr>\n",
       "  <th></th>                             <td> - 144</td>             <th>                     </th>     <td> </td>   \n",
       "</tr>\n",
       "<tr>\n",
       "  <th>Covariance Type:</th>               <td>opg</td>              <th>                     </th>     <td> </td>   \n",
       "</tr>\n",
       "</table>\n",
       "<table class=\"simpletable\">\n",
       "<tr>\n",
       "      <td></td>        <th>coef</th>     <th>std err</th>      <th>z</th>      <th>P>|z|</th>  <th>[0.025</th>    <th>0.975]</th>  \n",
       "</tr>\n",
       "<tr>\n",
       "  <th>ar.L1</th>    <td>   -0.1272</td> <td>    0.356</td> <td>   -0.357</td> <td> 0.721</td> <td>   -0.825</td> <td>    0.570</td>\n",
       "</tr>\n",
       "<tr>\n",
       "  <th>ma.L1</th>    <td>   -0.2149</td> <td>    0.325</td> <td>   -0.660</td> <td> 0.509</td> <td>   -0.853</td> <td>    0.423</td>\n",
       "</tr>\n",
       "<tr>\n",
       "  <th>ar.S.L12</th> <td>   -0.9272</td> <td>    0.214</td> <td>   -4.341</td> <td> 0.000</td> <td>   -1.346</td> <td>   -0.509</td>\n",
       "</tr>\n",
       "<tr>\n",
       "  <th>ma.S.L12</th> <td>    0.8395</td> <td>    0.309</td> <td>    2.717</td> <td> 0.007</td> <td>    0.234</td> <td>    1.445</td>\n",
       "</tr>\n",
       "<tr>\n",
       "  <th>sigma2</th>   <td>  130.7826</td> <td>   15.420</td> <td>    8.481</td> <td> 0.000</td> <td>  100.559</td> <td>  161.006</td>\n",
       "</tr>\n",
       "</table>\n",
       "<table class=\"simpletable\">\n",
       "<tr>\n",
       "  <th>Ljung-Box (L1) (Q):</th>     <td>0.00</td> <th>  Jarque-Bera (JB):  </th> <td>7.05</td>\n",
       "</tr>\n",
       "<tr>\n",
       "  <th>Prob(Q):</th>                <td>0.99</td> <th>  Prob(JB):          </th> <td>0.03</td>\n",
       "</tr>\n",
       "<tr>\n",
       "  <th>Heteroskedasticity (H):</th> <td>2.65</td> <th>  Skew:              </th> <td>0.13</td>\n",
       "</tr>\n",
       "<tr>\n",
       "  <th>Prob(H) (two-sided):</th>    <td>0.00</td> <th>  Kurtosis:          </th> <td>4.11</td>\n",
       "</tr>\n",
       "</table><br/><br/>Warnings:<br/>[1] Covariance matrix calculated using the outer product of gradients (complex-step)."
      ],
      "text/latex": [
       "\\begin{center}\n",
       "\\begin{tabular}{lclc}\n",
       "\\toprule\n",
       "\\textbf{Dep. Variable:}          &           passengers           & \\textbf{  No. Observations:  } &    144      \\\\\n",
       "\\textbf{Model:}                  & SARIMAX(1, 1, 1)x(1, 1, 1, 12) & \\textbf{  Log Likelihood     } &  -506.149   \\\\\n",
       "\\textbf{Date:}                   &        Mon, 17 Feb 2025        & \\textbf{  AIC                } &  1022.299   \\\\\n",
       "\\textbf{Time:}                   &            23:48:29            & \\textbf{  BIC                } &  1036.675   \\\\\n",
       "\\textbf{Sample:}                 &               0                & \\textbf{  HQIC               } &  1028.140   \\\\\n",
       "\\textbf{}                        &              - 144             & \\textbf{                     } &             \\\\\n",
       "\\textbf{Covariance Type:}        &              opg               & \\textbf{                     } &             \\\\\n",
       "\\bottomrule\n",
       "\\end{tabular}\n",
       "\\begin{tabular}{lcccccc}\n",
       "                  & \\textbf{coef} & \\textbf{std err} & \\textbf{z} & \\textbf{P$> |$z$|$} & \\textbf{[0.025} & \\textbf{0.975]}  \\\\\n",
       "\\midrule\n",
       "\\textbf{ar.L1}    &      -0.1272  &        0.356     &    -0.357  &         0.721        &       -0.825    &        0.570     \\\\\n",
       "\\textbf{ma.L1}    &      -0.2149  &        0.325     &    -0.660  &         0.509        &       -0.853    &        0.423     \\\\\n",
       "\\textbf{ar.S.L12} &      -0.9272  &        0.214     &    -4.341  &         0.000        &       -1.346    &       -0.509     \\\\\n",
       "\\textbf{ma.S.L12} &       0.8395  &        0.309     &     2.717  &         0.007        &        0.234    &        1.445     \\\\\n",
       "\\textbf{sigma2}   &     130.7826  &       15.420     &     8.481  &         0.000        &      100.559    &      161.006     \\\\\n",
       "\\bottomrule\n",
       "\\end{tabular}\n",
       "\\begin{tabular}{lclc}\n",
       "\\textbf{Ljung-Box (L1) (Q):}     & 0.00 & \\textbf{  Jarque-Bera (JB):  } & 7.05  \\\\\n",
       "\\textbf{Prob(Q):}                & 0.99 & \\textbf{  Prob(JB):          } & 0.03  \\\\\n",
       "\\textbf{Heteroskedasticity (H):} & 2.65 & \\textbf{  Skew:              } & 0.13  \\\\\n",
       "\\textbf{Prob(H) (two-sided):}    & 0.00 & \\textbf{  Kurtosis:          } & 4.11  \\\\\n",
       "\\bottomrule\n",
       "\\end{tabular}\n",
       "%\\caption{SARIMAX Results}\n",
       "\\end{center}\n",
       "\n",
       "Warnings: \\newline\n",
       " [1] Covariance matrix calculated using the outer product of gradients (complex-step)."
      ],
      "text/plain": [
       "<class 'statsmodels.iolib.summary.Summary'>\n",
       "\"\"\"\n",
       "                                     SARIMAX Results                                      \n",
       "==========================================================================================\n",
       "Dep. Variable:                         passengers   No. Observations:                  144\n",
       "Model:             SARIMAX(1, 1, 1)x(1, 1, 1, 12)   Log Likelihood                -506.149\n",
       "Date:                            Mon, 17 Feb 2025   AIC                           1022.299\n",
       "Time:                                    23:48:29   BIC                           1036.675\n",
       "Sample:                                         0   HQIC                          1028.140\n",
       "                                            - 144                                         \n",
       "Covariance Type:                              opg                                         \n",
       "==============================================================================\n",
       "                 coef    std err          z      P>|z|      [0.025      0.975]\n",
       "------------------------------------------------------------------------------\n",
       "ar.L1         -0.1272      0.356     -0.357      0.721      -0.825       0.570\n",
       "ma.L1         -0.2149      0.325     -0.660      0.509      -0.853       0.423\n",
       "ar.S.L12      -0.9272      0.214     -4.341      0.000      -1.346      -0.509\n",
       "ma.S.L12       0.8395      0.309      2.717      0.007       0.234       1.445\n",
       "sigma2       130.7826     15.420      8.481      0.000     100.559     161.006\n",
       "===================================================================================\n",
       "Ljung-Box (L1) (Q):                   0.00   Jarque-Bera (JB):                 7.05\n",
       "Prob(Q):                              0.99   Prob(JB):                         0.03\n",
       "Heteroskedasticity (H):               2.65   Skew:                             0.13\n",
       "Prob(H) (two-sided):                  0.00   Kurtosis:                         4.11\n",
       "===================================================================================\n",
       "\n",
       "Warnings:\n",
       "[1] Covariance matrix calculated using the outer product of gradients (complex-step).\n",
       "\"\"\""
      ]
     },
     "execution_count": 12,
     "metadata": {},
     "output_type": "execute_result"
    }
   ],
   "source": [
    "result.summary()"
   ]
  },
  {
   "cell_type": "code",
   "execution_count": 13,
   "metadata": {},
   "outputs": [
    {
     "name": "stdout",
     "output_type": "stream",
     "text": [
      "New Best: SARIMA(0, 1, 0)x(0, 1, 0, 12) - AIC: 1024.4816429833895\n",
      "New Best: SARIMA(0, 1, 0)x(0, 1, 1, 12) - AIC: 937.7995265380529\n",
      "New Best: SARIMA(0, 1, 1)x(0, 1, 1, 12) - AIC: 920.6308317604729\n",
      "New Best: SARIMA(0, 1, 1)x(1, 1, 1, 12) - AIC: 920.3192974989254\n"
     ]
    }
   ],
   "source": [
    "import itertools\n",
    "import statsmodels.api as sm\n",
    "import warnings\n",
    "\n",
    "warnings.filterwarnings(\"ignore\")  # Ignore convergence warnings\n",
    "\n",
    "p = q = range(0, 2) \n",
    "d = range(1, 2)  \n",
    "P = Q = range(0, 2)  \n",
    "D = range(1, 2)  \n",
    "seasonal_period = 12\n",
    "\n",
    "pdq = list(itertools.product(p, d, q))\n",
    "seasonal_pdq = list(itertools.product(P, D, Q, [seasonal_period]))\n",
    "\n",
    "best_aic = float(\"inf\")\n",
    "best_model = None\n",
    "\n",
    "for param in pdq:\n",
    "    for param_seasonal in seasonal_pdq:\n",
    "        try:\n",
    "            model = sm.tsa.statespace.SARIMAX(\n",
    "                df[\"passengers\"],\n",
    "                order=param,\n",
    "                seasonal_order=param_seasonal,\n",
    "                enforce_stationarity=False,\n",
    "                enforce_invertibility=False,\n",
    "            )\n",
    "            results = model.fit(disp=0)  # No verbose output\n",
    "\n",
    "            if results.aic < best_aic:\n",
    "                best_aic = results.aic\n",
    "                best_model = (param, param_seasonal)\n",
    "                print(f\"New Best: SARIMA{param}x{param_seasonal} - AIC: {best_aic}\")\n",
    "\n",
    "        except Exception as e:\n",
    "            print(f\"Skipping SARIMA{param}x{param_seasonal} - Error: {e}\")\n",
    "\n"
   ]
  },
  {
   "cell_type": "code",
   "execution_count": 32,
   "metadata": {},
   "outputs": [
    {
     "data": {
      "text/html": [
       "<table class=\"simpletable\">\n",
       "<caption>SARIMAX Results</caption>\n",
       "<tr>\n",
       "  <th>Dep. Variable:</th>             <td>passengers</td>           <th>  No. Observations:  </th>    <td>144</td>  \n",
       "</tr>\n",
       "<tr>\n",
       "  <th>Model:</th>           <td>SARIMAX(0, 1, 1)x(1, 1, 1, 12)</td> <th>  Log Likelihood     </th> <td>-456.160</td>\n",
       "</tr>\n",
       "<tr>\n",
       "  <th>Date:</th>                   <td>Tue, 18 Feb 2025</td>        <th>  AIC                </th>  <td>920.319</td>\n",
       "</tr>\n",
       "<tr>\n",
       "  <th>Time:</th>                       <td>00:03:39</td>            <th>  BIC                </th>  <td>931.368</td>\n",
       "</tr>\n",
       "<tr>\n",
       "  <th>Sample:</th>                         <td>0</td>               <th>  HQIC               </th>  <td>924.805</td>\n",
       "</tr>\n",
       "<tr>\n",
       "  <th></th>                             <td> - 144</td>             <th>                     </th>     <td> </td>   \n",
       "</tr>\n",
       "<tr>\n",
       "  <th>Covariance Type:</th>               <td>opg</td>              <th>                     </th>     <td> </td>   \n",
       "</tr>\n",
       "</table>\n",
       "<table class=\"simpletable\">\n",
       "<tr>\n",
       "      <td></td>        <th>coef</th>     <th>std err</th>      <th>z</th>      <th>P>|z|</th>  <th>[0.025</th>    <th>0.975]</th>  \n",
       "</tr>\n",
       "<tr>\n",
       "  <th>ma.L1</th>    <td>   -0.3351</td> <td>    0.076</td> <td>   -4.403</td> <td> 0.000</td> <td>   -0.484</td> <td>   -0.186</td>\n",
       "</tr>\n",
       "<tr>\n",
       "  <th>ar.S.L12</th> <td>   -0.5597</td> <td>    0.285</td> <td>   -1.967</td> <td> 0.049</td> <td>   -1.117</td> <td>   -0.002</td>\n",
       "</tr>\n",
       "<tr>\n",
       "  <th>ma.S.L12</th> <td>    0.4077</td> <td>    0.336</td> <td>    1.212</td> <td> 0.225</td> <td>   -0.251</td> <td>    1.067</td>\n",
       "</tr>\n",
       "<tr>\n",
       "  <th>sigma2</th>   <td>  140.2869</td> <td>   18.080</td> <td>    7.759</td> <td> 0.000</td> <td>  104.852</td> <td>  175.722</td>\n",
       "</tr>\n",
       "</table>\n",
       "<table class=\"simpletable\">\n",
       "<tr>\n",
       "  <th>Ljung-Box (L1) (Q):</th>     <td>0.00</td> <th>  Jarque-Bera (JB):  </th> <td>3.95</td>\n",
       "</tr>\n",
       "<tr>\n",
       "  <th>Prob(Q):</th>                <td>0.98</td> <th>  Prob(JB):          </th> <td>0.14</td>\n",
       "</tr>\n",
       "<tr>\n",
       "  <th>Heteroskedasticity (H):</th> <td>2.51</td> <th>  Skew:              </th> <td>0.15</td>\n",
       "</tr>\n",
       "<tr>\n",
       "  <th>Prob(H) (two-sided):</th>    <td>0.00</td> <th>  Kurtosis:          </th> <td>3.85</td>\n",
       "</tr>\n",
       "</table><br/><br/>Warnings:<br/>[1] Covariance matrix calculated using the outer product of gradients (complex-step)."
      ],
      "text/latex": [
       "\\begin{center}\n",
       "\\begin{tabular}{lclc}\n",
       "\\toprule\n",
       "\\textbf{Dep. Variable:}          &           passengers           & \\textbf{  No. Observations:  } &    144      \\\\\n",
       "\\textbf{Model:}                  & SARIMAX(0, 1, 1)x(1, 1, 1, 12) & \\textbf{  Log Likelihood     } &  -456.160   \\\\\n",
       "\\textbf{Date:}                   &        Tue, 18 Feb 2025        & \\textbf{  AIC                } &  920.319    \\\\\n",
       "\\textbf{Time:}                   &            00:03:39            & \\textbf{  BIC                } &  931.368    \\\\\n",
       "\\textbf{Sample:}                 &               0                & \\textbf{  HQIC               } &  924.805    \\\\\n",
       "\\textbf{}                        &              - 144             & \\textbf{                     } &             \\\\\n",
       "\\textbf{Covariance Type:}        &              opg               & \\textbf{                     } &             \\\\\n",
       "\\bottomrule\n",
       "\\end{tabular}\n",
       "\\begin{tabular}{lcccccc}\n",
       "                  & \\textbf{coef} & \\textbf{std err} & \\textbf{z} & \\textbf{P$> |$z$|$} & \\textbf{[0.025} & \\textbf{0.975]}  \\\\\n",
       "\\midrule\n",
       "\\textbf{ma.L1}    &      -0.3351  &        0.076     &    -4.403  &         0.000        &       -0.484    &       -0.186     \\\\\n",
       "\\textbf{ar.S.L12} &      -0.5597  &        0.285     &    -1.967  &         0.049        &       -1.117    &       -0.002     \\\\\n",
       "\\textbf{ma.S.L12} &       0.4077  &        0.336     &     1.212  &         0.225        &       -0.251    &        1.067     \\\\\n",
       "\\textbf{sigma2}   &     140.2869  &       18.080     &     7.759  &         0.000        &      104.852    &      175.722     \\\\\n",
       "\\bottomrule\n",
       "\\end{tabular}\n",
       "\\begin{tabular}{lclc}\n",
       "\\textbf{Ljung-Box (L1) (Q):}     & 0.00 & \\textbf{  Jarque-Bera (JB):  } & 3.95  \\\\\n",
       "\\textbf{Prob(Q):}                & 0.98 & \\textbf{  Prob(JB):          } & 0.14  \\\\\n",
       "\\textbf{Heteroskedasticity (H):} & 2.51 & \\textbf{  Skew:              } & 0.15  \\\\\n",
       "\\textbf{Prob(H) (two-sided):}    & 0.00 & \\textbf{  Kurtosis:          } & 3.85  \\\\\n",
       "\\bottomrule\n",
       "\\end{tabular}\n",
       "%\\caption{SARIMAX Results}\n",
       "\\end{center}\n",
       "\n",
       "Warnings: \\newline\n",
       " [1] Covariance matrix calculated using the outer product of gradients (complex-step)."
      ],
      "text/plain": [
       "<class 'statsmodels.iolib.summary.Summary'>\n",
       "\"\"\"\n",
       "                                     SARIMAX Results                                      \n",
       "==========================================================================================\n",
       "Dep. Variable:                         passengers   No. Observations:                  144\n",
       "Model:             SARIMAX(0, 1, 1)x(1, 1, 1, 12)   Log Likelihood                -456.160\n",
       "Date:                            Tue, 18 Feb 2025   AIC                            920.319\n",
       "Time:                                    00:03:39   BIC                            931.368\n",
       "Sample:                                         0   HQIC                           924.805\n",
       "                                            - 144                                         \n",
       "Covariance Type:                              opg                                         \n",
       "==============================================================================\n",
       "                 coef    std err          z      P>|z|      [0.025      0.975]\n",
       "------------------------------------------------------------------------------\n",
       "ma.L1         -0.3351      0.076     -4.403      0.000      -0.484      -0.186\n",
       "ar.S.L12      -0.5597      0.285     -1.967      0.049      -1.117      -0.002\n",
       "ma.S.L12       0.4077      0.336      1.212      0.225      -0.251       1.067\n",
       "sigma2       140.2869     18.080      7.759      0.000     104.852     175.722\n",
       "===================================================================================\n",
       "Ljung-Box (L1) (Q):                   0.00   Jarque-Bera (JB):                 3.95\n",
       "Prob(Q):                              0.98   Prob(JB):                         0.14\n",
       "Heteroskedasticity (H):               2.51   Skew:                             0.15\n",
       "Prob(H) (two-sided):                  0.00   Kurtosis:                         3.85\n",
       "===================================================================================\n",
       "\n",
       "Warnings:\n",
       "[1] Covariance matrix calculated using the outer product of gradients (complex-step).\n",
       "\"\"\""
      ]
     },
     "execution_count": 32,
     "metadata": {},
     "output_type": "execute_result"
    }
   ],
   "source": [
    "#sarima summary\n",
    "best_model.summary()"
   ]
  },
  {
   "cell_type": "code",
   "execution_count": 15,
   "metadata": {},
   "outputs": [
    {
     "data": {
      "image/png": "[encoded data removed]",
      "text/plain": [
       "<Figure size 1400x500 with 2 Axes>"
      ]
     },
     "metadata": {},
     "output_type": "display_data"
    },
    {
     "name": "stdout",
     "output_type": "stream",
     "text": [
      "     lb_stat  lb_pvalue\n",
      "10  7.012066   0.724305\n"
     ]
    }
   ],
   "source": [
    "from statsmodels.stats.diagnostic import acorr_ljungbox\n",
    "\n",
    "# Fit the best model\n",
    "best_model = sm.tsa.statespace.SARIMAX(df['passengers'],\n",
    "                                       order=best_model[0],\n",
    "                                       seasonal_order=best_model[1],\n",
    "                                       enforce_stationarity=False,\n",
    "                                       enforce_invertibility=False).fit()\n",
    "\n",
    "# Residual diagnostics\n",
    "residuals = best_model.resid\n",
    "\n",
    "fig, ax = plt.subplots(1, 2, figsize=(14, 5))\n",
    "sns.histplot(residuals, kde=True, ax=ax[0])  # Check normality\n",
    "ax[0].set_title(\"Residuals Distribution\")\n",
    "\n",
    "sns.boxplot(x=residuals, ax=ax[1])  # Check outliers\n",
    "ax[1].set_title(\"Residuals Boxplot\")\n",
    "\n",
    "plt.show()\n",
    "\n",
    "# Ljung-Box test for autocorrelation\n",
    "print(acorr_ljungbox(residuals, lags=[10], return_df=True))\n"
   ]
  },
  {
   "cell_type": "code",
   "execution_count": 16,
   "metadata": {},
   "outputs": [],
   "source": [
    "#com Prophet (Facebook)\n",
    "from prophet import Prophet"
   ]
  },
  {
   "cell_type": "code",
   "execution_count": 17,
   "metadata": {},
   "outputs": [
    {
     "name": "stderr",
     "output_type": "stream",
     "text": [
      "23:52:48 - cmdstanpy - INFO - Chain [1] start processing\n",
      "23:52:48 - cmdstanpy - INFO - Chain [1] done processing\n"
     ]
    },
    {
     "data": {
      "text/plain": [
       "<prophet.forecaster.Prophet at 0x12193c6a990>"
      ]
     },
     "execution_count": 17,
     "metadata": {},
     "output_type": "execute_result"
    }
   ],
   "source": [
    "# Prepare data for Prophet\n",
    "df_prophet = df.reset_index().rename(columns={'date': 'ds', 'passengers': 'y'})\n",
    "\n",
    "# Fit Prophet model\n",
    "model = Prophet()\n",
    "model.fit(df_prophet)"
   ]
  },
  {
   "cell_type": "code",
   "execution_count": 18,
   "metadata": {},
   "outputs": [],
   "source": [
    "# Make future predictions\n",
    "future = model.make_future_dataframe(periods=12, freq='M')\n",
    "forecast = model.predict(future)"
   ]
  },
  {
   "cell_type": "code",
   "execution_count": 19,
   "metadata": {},
   "outputs": [
    {
     "data": {
      "image/png": "[encoded data removed]",
      "text/plain": [
       "<Figure size 1000x600 with 1 Axes>"
      ]
     },
     "metadata": {},
     "output_type": "display_data"
    }
   ],
   "source": [
    "# Plot forecast\n",
    "model.plot(forecast)\n",
    "plt.show()"
   ]
  },
  {
   "cell_type": "code",
   "execution_count": 20,
   "metadata": {},
   "outputs": [
    {
     "name": "stderr",
     "output_type": "stream",
     "text": [
      "23:52:49 - cmdstanpy - INFO - Chain [1] start processing\n",
      "23:52:49 - cmdstanpy - INFO - Chain [1] done processing\n"
     ]
    },
    {
     "data": {
      "text/plain": [
       "<prophet.forecaster.Prophet at 0x12193cb3bd0>"
      ]
     },
     "execution_count": 20,
     "metadata": {},
     "output_type": "execute_result"
    }
   ],
   "source": [
    "# Initialize Prophet with tuned parameters\n",
    "model = Prophet(\n",
    "    changepoint_prior_scale=0.05,  # Controls trend flexibility (default=0.05)\n",
    "    seasonality_prior_scale=10.0,  # Controls seasonality flexibility (default=10.0)\n",
    "    holidays_prior_scale=10.0,     # Controls holiday effects\n",
    "    weekly_seasonality=False,      # Disabling weekly seasonality for monthly data\n",
    "    yearly_seasonality=True        # Enabling yearly seasonality\n",
    ")\n",
    "\n",
    "# Add custom seasonality (if needed)\n",
    "model.add_seasonality(name=\"monthly\", period=30.5, fourier_order=5)\n",
    "\n",
    "# Fit the model\n",
    "model.fit(df_prophet)"
   ]
  },
  {
   "cell_type": "code",
   "execution_count": 21,
   "metadata": {},
   "outputs": [],
   "source": [
    "Q1 = df_prophet['y'].quantile(0.25)\n",
    "Q3 = df_prophet['y'].quantile(0.75)\n",
    "IQR = Q3 - Q1\n",
    "\n",
    "# Filter out extreme values\n",
    "df_clean = df_prophet[(df_prophet['y'] > Q1 - 1.5 * IQR) & (df_prophet['y'] < Q3 + 1.5 * IQR)]"
   ]
  },
  {
   "cell_type": "code",
   "execution_count": 22,
   "metadata": {},
   "outputs": [
    {
     "data": {
      "application/vnd.jupyter.widget-view+json": {
       "model_id": "441bf92f07134aee95e9b4b8d7e998c7",
       "version_major": 2,
       "version_minor": 0
      },
      "text/plain": [
       "  0%|          | 0/19 [00:00<?, ?it/s]"
      ]
     },
     "metadata": {},
     "output_type": "display_data"
    },
    {
     "name": "stderr",
     "output_type": "stream",
     "text": [
      "23:52:50 - cmdstanpy - INFO - Chain [1] start processing\n",
      "23:53:08 - cmdstanpy - INFO - Chain [1] done processing\n",
      "23:53:08 - cmdstanpy - INFO - Chain [1] start processing\n",
      "23:53:09 - cmdstanpy - INFO - Chain [1] done processing\n",
      "23:53:09 - cmdstanpy - INFO - Chain [1] start processing\n",
      "23:53:09 - cmdstanpy - INFO - Chain [1] done processing\n",
      "23:53:09 - cmdstanpy - INFO - Chain [1] start processing\n",
      "23:53:10 - cmdstanpy - INFO - Chain [1] done processing\n",
      "23:53:10 - cmdstanpy - INFO - Chain [1] start processing\n",
      "23:53:11 - cmdstanpy - INFO - Chain [1] done processing\n",
      "23:53:11 - cmdstanpy - INFO - Chain [1] start processing\n",
      "23:53:11 - cmdstanpy - INFO - Chain [1] done processing\n",
      "23:53:12 - cmdstanpy - INFO - Chain [1] start processing\n",
      "23:53:12 - cmdstanpy - INFO - Chain [1] done processing\n",
      "23:53:12 - cmdstanpy - INFO - Chain [1] start processing\n",
      "23:53:13 - cmdstanpy - INFO - Chain [1] done processing\n",
      "23:53:13 - cmdstanpy - INFO - Chain [1] start processing\n",
      "23:53:14 - cmdstanpy - INFO - Chain [1] done processing\n",
      "23:53:14 - cmdstanpy - INFO - Chain [1] start processing\n",
      "23:53:15 - cmdstanpy - INFO - Chain [1] done processing\n",
      "23:53:15 - cmdstanpy - INFO - Chain [1] start processing\n",
      "23:53:15 - cmdstanpy - INFO - Chain [1] done processing\n",
      "23:53:15 - cmdstanpy - INFO - Chain [1] start processing\n",
      "23:53:16 - cmdstanpy - INFO - Chain [1] done processing\n",
      "23:53:16 - cmdstanpy - INFO - Chain [1] start processing\n",
      "23:53:17 - cmdstanpy - INFO - Chain [1] done processing\n",
      "23:53:17 - cmdstanpy - INFO - Chain [1] start processing\n",
      "23:53:17 - cmdstanpy - INFO - Chain [1] done processing\n",
      "23:53:17 - cmdstanpy - INFO - Chain [1] start processing\n",
      "23:53:17 - cmdstanpy - INFO - Chain [1] done processing\n",
      "23:53:18 - cmdstanpy - INFO - Chain [1] start processing\n",
      "23:53:18 - cmdstanpy - INFO - Chain [1] done processing\n",
      "23:53:18 - cmdstanpy - INFO - Chain [1] start processing\n",
      "23:53:18 - cmdstanpy - INFO - Chain [1] done processing\n",
      "23:53:19 - cmdstanpy - INFO - Chain [1] start processing\n",
      "23:53:19 - cmdstanpy - INFO - Chain [1] done processing\n",
      "23:53:19 - cmdstanpy - INFO - Chain [1] start processing\n",
      "23:53:19 - cmdstanpy - INFO - Chain [1] done processing\n"
     ]
    },
    {
     "name": "stdout",
     "output_type": "stream",
     "text": [
      "     horizon        rmse      mape\n",
      "0    40 days   40.040211  0.101041\n",
      "1    42 days  121.541836  0.235079\n",
      "2    46 days  120.789824  0.229610\n",
      "3    47 days  118.956465  0.200977\n",
      "4    48 days  119.485646  0.212314\n",
      "..       ...         ...       ...\n",
      "165 359 days   56.074973  0.154895\n",
      "166 360 days   55.447715  0.155391\n",
      "167 362 days   56.267172  0.152357\n",
      "168 364 days   56.299007  0.153599\n",
      "169 365 days   56.638005  0.156548\n",
      "\n",
      "[170 rows x 3 columns]\n"
     ]
    }
   ],
   "source": [
    "from prophet.diagnostics import cross_validation, performance_metrics\n",
    "\n",
    "# Perform cross-validation\n",
    "df_cv = cross_validation(model, initial='730 days', period='180 days', horizon='365 days')\n",
    "df_p = performance_metrics(df_cv)\n",
    "\n",
    "print(df_p[['horizon', 'rmse', 'mape']])  # Check errors"
   ]
  },
  {
   "cell_type": "code",
   "execution_count": 23,
   "metadata": {},
   "outputs": [
    {
     "data": {
      "application/vnd.plotly.v1+json": {
       "config": {
        "plotlyServerURL": "https://plot.ly"
       },
       "data": [
        {
         "line": {
          "color": "#0072B2",
          "width": 2
         },
         "mode": "lines",
         "name": "trend",
         "type": "scatter",
         "x": [
          "1949-01-01T00:00:00",
          "1949-02-01T00:00:00",
          "1949-03-01T00:00:00",
          "1949-04-01T00:00:00",
          "1949-05-01T00:00:00",
          "1949-06-01T00:00:00",
          "1949-07-01T00:00:00",
          "1949-08-01T00:00:00",
          "1949-09-01T00:00:00",
          "1949-10-01T00:00:00",
          "1949-11-01T00:00:00",
          "1949-12-01T00:00:00",
          "1950-01-01T00:00:00",
          "1950-02-01T00:00:00",
          "1950-03-01T00:00:00",
          "1950-04-01T00:00:00",
          "1950-05-01T00:00:00",
          "1950-06-01T00:00:00",
          "1950-07-01T00:00:00",
          "1950-08-01T00:00:00",
          "1950-09-01T00:00:00",
          "1950-10-01T00:00:00",
          "1950-11-01T00:00:00",
          "1950-12-01T00:00:00",
          "1951-01-01T00:00:00",
          "1951-02-01T00:00:00",
          "1951-03-01T00:00:00",
          "1951-04-01T00:00:00",
          "1951-05-01T00:00:00",
          "1951-06-01T00:00:00",
          "1951-07-01T00:00:00",
          "1951-08-01T00:00:00",
          "1951-09-01T00:00:00",
          "1951-10-01T00:00:00",
          "1951-11-01T00:00:00",
          "1951-12-01T00:00:00",
          "1952-01-01T00:00:00",
          "1952-02-01T00:00:00",
          "1952-03-01T00:00:00",
          "1952-04-01T00:00:00",
          "1952-05-01T00:00:00",
          "1952-06-01T00:00:00",
          "1952-07-01T00:00:00",
          "1952-08-01T00:00:00",
          "1952-09-01T00:00:00",
          "1952-10-01T00:00:00",
          "1952-11-01T00:00:00",
          "1952-12-01T00:00:00",
          "1953-01-01T00:00:00",
          "1953-02-01T00:00:00",
          "1953-03-01T00:00:00",
          "1953-04-01T00:00:00",
          "1953-05-01T00:00:00",
          "1953-06-01T00:00:00",
          "1953-07-01T00:00:00",
          "1953-08-01T00:00:00",
          "1953-09-01T00:00:00",
          "1953-10-01T00:00:00",
          "1953-11-01T00:00:00",
          "1953-12-01T00:00:00",
          "1954-01-01T00:00:00",
          "1954-02-01T00:00:00",
          "1954-03-01T00:00:00",
          "1954-04-01T00:00:00",
          "1954-05-01T00:00:00",
          "1954-06-01T00:00:00",
          "1954-07-01T00:00:00",
          "1954-08-01T00:00:00",
          "1954-09-01T00:00:00",
          "1954-10-01T00:00:00",
          "1954-11-01T00:00:00",
          "1954-12-01T00:00:00",
          "1955-01-01T00:00:00",
          "1955-02-01T00:00:00",
          "1955-03-01T00:00:00",
          "1955-04-01T00:00:00",
          "1955-05-01T00:00:00",
          "1955-06-01T00:00:00",
          "1955-07-01T00:00:00",
          "1955-08-01T00:00:00",
          "1955-09-01T00:00:00",
          "1955-10-01T00:00:00",
          "1955-11-01T00:00:00",
          "1955-12-01T00:00:00",
          "1956-01-01T00:00:00",
          "1956-02-01T00:00:00",
          "1956-03-01T00:00:00",
          "1956-04-01T00:00:00",
          "1956-05-01T00:00:00",
          "1956-06-01T00:00:00",
          "1956-07-01T00:00:00",
          "1956-08-01T00:00:00",
          "1956-09-01T00:00:00",
          "1956-10-01T00:00:00",
          "1956-11-01T00:00:00",
          "1956-12-01T00:00:00",
          "1957-01-01T00:00:00",
          "1957-02-01T00:00:00",
          "1957-03-01T00:00:00",
          "1957-04-01T00:00:00",
          "1957-05-01T00:00:00",
          "1957-06-01T00:00:00",
          "1957-07-01T00:00:00",
          "1957-08-01T00:00:00",
          "1957-09-01T00:00:00",
          "1957-10-01T00:00:00",
          "1957-11-01T00:00:00",
          "1957-12-01T00:00:00",
          "1958-01-01T00:00:00",
          "1958-02-01T00:00:00",
          "1958-03-01T00:00:00",
          "1958-04-01T00:00:00",
          "1958-05-01T00:00:00",
          "1958-06-01T00:00:00",
          "1958-07-01T00:00:00",
          "1958-08-01T00:00:00",
          "1958-09-01T00:00:00",
          "1958-10-01T00:00:00",
          "1958-11-01T00:00:00",
          "1958-12-01T00:00:00",
          "1959-01-01T00:00:00",
          "1959-02-01T00:00:00",
          "1959-03-01T00:00:00",
          "1959-04-01T00:00:00",
          "1959-05-01T00:00:00",
          "1959-06-01T00:00:00",
          "1959-07-01T00:00:00",
          "1959-08-01T00:00:00",
          "1959-09-01T00:00:00",
          "1959-10-01T00:00:00",
          "1959-11-01T00:00:00",
          "1959-12-01T00:00:00",
          "1960-01-01T00:00:00",
          "1960-02-01T00:00:00",
          "1960-03-01T00:00:00",
          "1960-04-01T00:00:00",
          "1960-05-01T00:00:00",
          "1960-06-01T00:00:00",
          "1960-07-01T00:00:00",
          "1960-08-01T00:00:00",
          "1960-09-01T00:00:00",
          "1960-10-01T00:00:00",
          "1960-11-01T00:00:00",
          "1960-12-01T00:00:00",
          "1960-12-31T00:00:00",
          "1961-01-31T00:00:00",
          "1961-02-28T00:00:00",
          "1961-03-31T00:00:00",
          "1961-04-30T00:00:00",
          "1961-05-31T00:00:00",
          "1961-06-30T00:00:00",
          "1961-07-31T00:00:00",
          "1961-08-31T00:00:00",
          "1961-09-30T00:00:00",
          "1961-10-31T00:00:00",
          "1961-11-30T00:00:00"
         ],
         "xaxis": "x",
         "y": [
          106.662426,
          108.83545246047794,
          110.79818603768382,
          112.97121249816176,
          115.07414133088236,
          117.24716779136028,
          119.35009660788539,
          121.52312305162802,
          123.69614949537062,
          125.79907831189571,
          127.97210480465723,
          130.07503366862,
          132.2480601613815,
          134.421086654143,
          136.38382026050823,
          138.55684678202138,
          140.6597756738083,
          142.83280219532142,
          144.93573108710834,
          147.10875760878457,
          149.28178413046084,
          151.38471302240558,
          153.5577395440818,
          155.66066843602655,
          157.83369497602834,
          160.0067215160301,
          161.96945516506395,
          164.1424817050657,
          166.24541061659392,
          168.41843715850638,
          170.52136607003453,
          172.694392611947,
          174.86741915385943,
          176.97034807129322,
          179.14337461930805,
          181.2463035367418,
          183.41933008475667,
          185.59235664668793,
          187.62518794655915,
          189.79821450849042,
          191.90114343939166,
          194.07417000132293,
          196.1770989235272,
          198.35012547647167,
          200.52315202941614,
          202.62608095162042,
          204.7991075045649,
          206.90203642780256,
          209.0750629818148,
          211.24808953582706,
          213.21082319751554,
          215.38384977273606,
          217.48677871649778,
          219.65980529171824,
          221.76273423548002,
          223.93576081070046,
          226.23271012383455,
          228.45556429783528,
          230.75251361096937,
          232.97536778497005,
          235.46028824222174,
          237.94520869947348,
          240.18965298344276,
          242.67457344069447,
          245.07933517351876,
          247.80766208182746,
          250.44797844470685,
          253.17630535301555,
          255.90463226132428,
          258.76628786731027,
          261.72333199349583,
          264.58498759948185,
          267.5420317256674,
          270.4990758518529,
          273.2947129249766,
          276.3898825416493,
          279.385207977139,
          282.4803775938116,
          285.47570302930137,
          288.59309497374977,
          291.7104869181982,
          294.7273178321805,
          297.84470977662886,
          300.86154068636034,
          303.97893262641617,
          307.09632456647205,
          310.0125944458791,
          313.1299863859349,
          316.1468173247693,
          319.26420929489825,
          322.2810402337327,
          325.39843220386155,
          328.5158241732647,
          331.5326551113967,
          334.6500470807997,
          337.66687801893175,
          340.78426998833487,
          343.9016619796875,
          346.7173708751027,
          349.8347628664553,
          352.85159382582884,
          355.9689857929007,
          358.9858167287767,
          362.10320869584865,
          365.2206006629204,
          368.23743159879643,
          371.35482358776875,
          374.3716545448388,
          377.48904653381106,
          380.60643852278344,
          383.4221492199213,
          386.53954320603833,
          389.5563760958289,
          392.6737700819459,
          395.6906029717365,
          398.8079976302645,
          401.92539228879247,
          404.9422258293034,
          408.05962048783147,
          411.07645402834237,
          414.19384868687035,
          417.31124334539845,
          420.1269546498753,
          423.2443493084033,
          426.26118284891425,
          429.37857750744223,
          432.39541104795325,
          435.51280570648123,
          438.6302003650092,
          441.6470339055201,
          444.7644285640482,
          447.7812621045591,
          450.8986567630871,
          454.01605142161515,
          456.932323844109,
          460.04971850263706,
          463.06655204314796,
          466.18394670167606,
          469.20078024218697,
          472.31817490071495,
          475.435569559243,
          478.4524030997539,
          481.569797758282,
          484.5866312987929,
          487.6034648393038,
          490.7208594978318,
          493.5365708023088,
          496.65396546083673,
          499.67079900134775,
          502.78819365987573,
          505.8050272003867,
          508.9224218589147,
          512.0398165174427,
          515.0566500579536,
          518.1740447164816,
          521.1908782569926
         ],
         "yaxis": "y"
        },
        {
         "line": {
          "color": "rgba(0, 114, 178, 0.2)",
          "width": 0
         },
         "mode": "lines",
         "name": "trend_upper",
         "type": "scatter",
         "x": [
          "1949-01-01T00:00:00",
          "1949-02-01T00:00:00",
          "1949-03-01T00:00:00",
          "1949-04-01T00:00:00",
          "1949-05-01T00:00:00",
          "1949-06-01T00:00:00",
          "1949-07-01T00:00:00",
          "1949-08-01T00:00:00",
          "1949-09-01T00:00:00",
          "1949-10-01T00:00:00",
          "1949-11-01T00:00:00",
          "1949-12-01T00:00:00",
          "1950-01-01T00:00:00",
          "1950-02-01T00:00:00",
          "1950-03-01T00:00:00",
          "1950-04-01T00:00:00",
          "1950-05-01T00:00:00",
          "1950-06-01T00:00:00",
          "1950-07-01T00:00:00",
          "1950-08-01T00:00:00",
          "1950-09-01T00:00:00",
          "1950-10-01T00:00:00",
          "1950-11-01T00:00:00",
          "1950-12-01T00:00:00",
          "1951-01-01T00:00:00",
          "1951-02-01T00:00:00",
          "1951-03-01T00:00:00",
          "1951-04-01T00:00:00",
          "1951-05-01T00:00:00",
          "1951-06-01T00:00:00",
          "1951-07-01T00:00:00",
          "1951-08-01T00:00:00",
          "1951-09-01T00:00:00",
          "1951-10-01T00:00:00",
          "1951-11-01T00:00:00",
          "1951-12-01T00:00:00",
          "1952-01-01T00:00:00",
          "1952-02-01T00:00:00",
          "1952-03-01T00:00:00",
          "1952-04-01T00:00:00",
          "1952-05-01T00:00:00",
          "1952-06-01T00:00:00",
          "1952-07-01T00:00:00",
          "1952-08-01T00:00:00",
          "1952-09-01T00:00:00",
          "1952-10-01T00:00:00",
          "1952-11-01T00:00:00",
          "1952-12-01T00:00:00",
          "1953-01-01T00:00:00",
          "1953-02-01T00:00:00",
          "1953-03-01T00:00:00",
          "1953-04-01T00:00:00",
          "1953-05-01T00:00:00",
          "1953-06-01T00:00:00",
          "1953-07-01T00:00:00",
          "1953-08-01T00:00:00",
          "1953-09-01T00:00:00",
          "1953-10-01T00:00:00",
          "1953-11-01T00:00:00",
          "1953-12-01T00:00:00",
          "1954-01-01T00:00:00",
          "1954-02-01T00:00:00",
          "1954-03-01T00:00:00",
          "1954-04-01T00:00:00",
          "1954-05-01T00:00:00",
          "1954-06-01T00:00:00",
          "1954-07-01T00:00:00",
          "1954-08-01T00:00:00",
          "1954-09-01T00:00:00",
          "1954-10-01T00:00:00",
          "1954-11-01T00:00:00",
          "1954-12-01T00:00:00",
          "1955-01-01T00:00:00",
          "1955-02-01T00:00:00",
          "1955-03-01T00:00:00",
          "1955-04-01T00:00:00",
          "1955-05-01T00:00:00",
          "1955-06-01T00:00:00",
          "1955-07-01T00:00:00",
          "1955-08-01T00:00:00",
          "1955-09-01T00:00:00",
          "1955-10-01T00:00:00",
          "1955-11-01T00:00:00",
          "1955-12-01T00:00:00",
          "1956-01-01T00:00:00",
          "1956-02-01T00:00:00",
          "1956-03-01T00:00:00",
          "1956-04-01T00:00:00",
          "1956-05-01T00:00:00",
          "1956-06-01T00:00:00",
          "1956-07-01T00:00:00",
          "1956-08-01T00:00:00",
          "1956-09-01T00:00:00",
          "1956-10-01T00:00:00",
          "1956-11-01T00:00:00",
          "1956-12-01T00:00:00",
          "1957-01-01T00:00:00",
          "1957-02-01T00:00:00",
          "1957-03-01T00:00:00",
          "1957-04-01T00:00:00",
          "1957-05-01T00:00:00",
          "1957-06-01T00:00:00",
          "1957-07-01T00:00:00",
          "1957-08-01T00:00:00",
          "1957-09-01T00:00:00",
          "1957-10-01T00:00:00",
          "1957-11-01T00:00:00",
          "1957-12-01T00:00:00",
          "1958-01-01T00:00:00",
          "1958-02-01T00:00:00",
          "1958-03-01T00:00:00",
          "1958-04-01T00:00:00",
          "1958-05-01T00:00:00",
          "1958-06-01T00:00:00",
          "1958-07-01T00:00:00",
          "1958-08-01T00:00:00",
          "1958-09-01T00:00:00",
          "1958-10-01T00:00:00",
          "1958-11-01T00:00:00",
          "1958-12-01T00:00:00",
          "1959-01-01T00:00:00",
          "1959-02-01T00:00:00",
          "1959-03-01T00:00:00",
          "1959-04-01T00:00:00",
          "1959-05-01T00:00:00",
          "1959-06-01T00:00:00",
          "1959-07-01T00:00:00",
          "1959-08-01T00:00:00",
          "1959-09-01T00:00:00",
          "1959-10-01T00:00:00",
          "1959-11-01T00:00:00",
          "1959-12-01T00:00:00",
          "1960-01-01T00:00:00",
          "1960-02-01T00:00:00",
          "1960-03-01T00:00:00",
          "1960-04-01T00:00:00",
          "1960-05-01T00:00:00",
          "1960-06-01T00:00:00",
          "1960-07-01T00:00:00",
          "1960-08-01T00:00:00",
          "1960-09-01T00:00:00",
          "1960-10-01T00:00:00",
          "1960-11-01T00:00:00",
          "1960-12-01T00:00:00",
          "1960-12-31T00:00:00",
          "1961-01-31T00:00:00",
          "1961-02-28T00:00:00",
          "1961-03-31T00:00:00",
          "1961-04-30T00:00:00",
          "1961-05-31T00:00:00",
          "1961-06-30T00:00:00",
          "1961-07-31T00:00:00",
          "1961-08-31T00:00:00",
          "1961-09-30T00:00:00",
          "1961-10-31T00:00:00",
          "1961-11-30T00:00:00"
         ],
         "xaxis": "x",
         "y": [
          106.662426,
          108.83545246047794,
          110.79818603768382,
          112.97121249816176,
          115.07414133088236,
          117.24716779136028,
          119.35009660788539,
          121.52312305162802,
          123.69614949537062,
          125.79907831189571,
          127.97210480465723,
          130.07503366862,
          132.2480601613815,
          134.421086654143,
          136.38382026050823,
          138.55684678202138,
          140.6597756738083,
          142.83280219532142,
          144.93573108710834,
          147.10875760878457,
          149.28178413046084,
          151.38471302240558,
          153.5577395440818,
          155.66066843602655,
          157.83369497602834,
          160.0067215160301,
          161.96945516506395,
          164.1424817050657,
          166.24541061659392,
          168.41843715850638,
          170.52136607003453,
          172.694392611947,
          174.86741915385943,
          176.97034807129322,
          179.14337461930805,
          181.2463035367418,
          183.41933008475667,
          185.59235664668793,
          187.62518794655915,
          189.79821450849042,
          191.90114343939166,
          194.07417000132293,
          196.1770989235272,
          198.35012547647167,
          200.52315202941614,
          202.62608095162042,
          204.7991075045649,
          206.90203642780256,
          209.0750629818148,
          211.24808953582706,
          213.21082319751554,
          215.38384977273606,
          217.48677871649778,
          219.65980529171824,
          221.76273423548002,
          223.93576081070046,
          226.23271012383455,
          228.45556429783528,
          230.75251361096937,
          232.97536778497005,
          235.46028824222174,
          237.94520869947348,
          240.18965298344276,
          242.67457344069447,
          245.07933517351876,
          247.80766208182746,
          250.44797844470685,
          253.17630535301555,
          255.90463226132428,
          258.76628786731027,
          261.72333199349583,
          264.58498759948185,
          267.5420317256674,
          270.4990758518529,
          273.2947129249766,
          276.3898825416493,
          279.385207977139,
          282.4803775938116,
          285.47570302930137,
          288.59309497374977,
          291.7104869181982,
          294.7273178321805,
          297.84470977662886,
          300.86154068636034,
          303.97893262641617,
          307.09632456647205,
          310.0125944458791,
          313.1299863859349,
          316.1468173247693,
          319.26420929489825,
          322.2810402337327,
          325.39843220386155,
          328.5158241732647,
          331.5326551113967,
          334.6500470807997,
          337.66687801893175,
          340.78426998833487,
          343.9016619796875,
          346.7173708751027,
          349.8347628664553,
          352.85159382582884,
          355.9689857929007,
          358.9858167287767,
          362.10320869584865,
          365.2206006629204,
          368.23743159879643,
          371.35482358776875,
          374.3716545448388,
          377.48904653381106,
          380.60643852278344,
          383.4221492199213,
          386.53954320603833,
          389.5563760958289,
          392.6737700819459,
          395.6906029717365,
          398.8079976302645,
          401.92539228879247,
          404.9422258293034,
          408.05962048783147,
          411.07645402834237,
          414.19384868687035,
          417.31124334539845,
          420.1269546498753,
          423.2443493084033,
          426.26118284891425,
          429.37857750744223,
          432.39541104795325,
          435.51280570648123,
          438.6302003650092,
          441.6470339055201,
          444.7644285640482,
          447.7812621045591,
          450.8986567630871,
          454.01605142161515,
          456.932323844109,
          460.04971850263706,
          463.06655204314796,
          466.18394670167606,
          469.20078024218697,
          472.31817490071495,
          475.435569559243,
          478.4524030997539,
          481.569797758282,
          484.5866312987929,
          487.6034648393038,
          490.73457038421617,
          493.57407339089315,
          496.7224201732608,
          499.79018768562975,
          502.96364862650097,
          506.04722860953774,
          509.2341953402718,
          512.4122858382415,
          515.4870353957128,
          518.6753809939856,
          521.7818620576865
         ],
         "yaxis": "y"
        },
        {
         "fill": "tonexty",
         "fillcolor": "rgba(0, 114, 178, 0.2)",
         "line": {
          "color": "rgba(0, 114, 178, 0.2)",
          "width": 0
         },
         "mode": "lines",
         "name": "trend_lower",
         "type": "scatter",
         "x": [
          "1949-01-01T00:00:00",
          "1949-02-01T00:00:00",
          "1949-03-01T00:00:00",
          "1949-04-01T00:00:00",
          "1949-05-01T00:00:00",
          "1949-06-01T00:00:00",
          "1949-07-01T00:00:00",
          "1949-08-01T00:00:00",
          "1949-09-01T00:00:00",
          "1949-10-01T00:00:00",
          "1949-11-01T00:00:00",
          "1949-12-01T00:00:00",
          "1950-01-01T00:00:00",
          "1950-02-01T00:00:00",
          "1950-03-01T00:00:00",
          "1950-04-01T00:00:00",
          "1950-05-01T00:00:00",
          "1950-06-01T00:00:00",
          "1950-07-01T00:00:00",
          "1950-08-01T00:00:00",
          "1950-09-01T00:00:00",
          "1950-10-01T00:00:00",
          "1950-11-01T00:00:00",
          "1950-12-01T00:00:00",
          "1951-01-01T00:00:00",
          "1951-02-01T00:00:00",
          "1951-03-01T00:00:00",
          "1951-04-01T00:00:00",
          "1951-05-01T00:00:00",
          "1951-06-01T00:00:00",
          "1951-07-01T00:00:00",
          "1951-08-01T00:00:00",
          "1951-09-01T00:00:00",
          "1951-10-01T00:00:00",
          "1951-11-01T00:00:00",
          "1951-12-01T00:00:00",
          "1952-01-01T00:00:00",
          "1952-02-01T00:00:00",
          "1952-03-01T00:00:00",
          "1952-04-01T00:00:00",
          "1952-05-01T00:00:00",
          "1952-06-01T00:00:00",
          "1952-07-01T00:00:00",
          "1952-08-01T00:00:00",
          "1952-09-01T00:00:00",
          "1952-10-01T00:00:00",
          "1952-11-01T00:00:00",
          "1952-12-01T00:00:00",
          "1953-01-01T00:00:00",
          "1953-02-01T00:00:00",
          "1953-03-01T00:00:00",
          "1953-04-01T00:00:00",
          "1953-05-01T00:00:00",
          "1953-06-01T00:00:00",
          "1953-07-01T00:00:00",
          "1953-08-01T00:00:00",
          "1953-09-01T00:00:00",
          "1953-10-01T00:00:00",
          "1953-11-01T00:00:00",
          "1953-12-01T00:00:00",
          "1954-01-01T00:00:00",
          "1954-02-01T00:00:00",
          "1954-03-01T00:00:00",
          "1954-04-01T00:00:00",
          "1954-05-01T00:00:00",
          "1954-06-01T00:00:00",
          "1954-07-01T00:00:00",
          "1954-08-01T00:00:00",
          "1954-09-01T00:00:00",
          "1954-10-01T00:00:00",
          "1954-11-01T00:00:00",
          "1954-12-01T00:00:00",
          "1955-01-01T00:00:00",
          "1955-02-01T00:00:00",
          "1955-03-01T00:00:00",
          "1955-04-01T00:00:00",
          "1955-05-01T00:00:00",
          "1955-06-01T00:00:00",
          "1955-07-01T00:00:00",
          "1955-08-01T00:00:00",
          "1955-09-01T00:00:00",
          "1955-10-01T00:00:00",
          "1955-11-01T00:00:00",
          "1955-12-01T00:00:00",
          "1956-01-01T00:00:00",
          "1956-02-01T00:00:00",
          "1956-03-01T00:00:00",
          "1956-04-01T00:00:00",
          "1956-05-01T00:00:00",
          "1956-06-01T00:00:00",
          "1956-07-01T00:00:00",
          "1956-08-01T00:00:00",
          "1956-09-01T00:00:00",
          "1956-10-01T00:00:00",
          "1956-11-01T00:00:00",
          "1956-12-01T00:00:00",
          "1957-01-01T00:00:00",
          "1957-02-01T00:00:00",
          "1957-03-01T00:00:00",
          "1957-04-01T00:00:00",
          "1957-05-01T00:00:00",
          "1957-06-01T00:00:00",
          "1957-07-01T00:00:00",
          "1957-08-01T00:00:00",
          "1957-09-01T00:00:00",
          "1957-10-01T00:00:00",
          "1957-11-01T00:00:00",
          "1957-12-01T00:00:00",
          "1958-01-01T00:00:00",
          "1958-02-01T00:00:00",
          "1958-03-01T00:00:00",
          "1958-04-01T00:00:00",
          "1958-05-01T00:00:00",
          "1958-06-01T00:00:00",
          "1958-07-01T00:00:00",
          "1958-08-01T00:00:00",
          "1958-09-01T00:00:00",
          "1958-10-01T00:00:00",
          "1958-11-01T00:00:00",
          "1958-12-01T00:00:00",
          "1959-01-01T00:00:00",
          "1959-02-01T00:00:00",
          "1959-03-01T00:00:00",
          "1959-04-01T00:00:00",
          "1959-05-01T00:00:00",
          "1959-06-01T00:00:00",
          "1959-07-01T00:00:00",
          "1959-08-01T00:00:00",
          "1959-09-01T00:00:00",
          "1959-10-01T00:00:00",
          "1959-11-01T00:00:00",
          "1959-12-01T00:00:00",
          "1960-01-01T00:00:00",
          "1960-02-01T00:00:00",
          "1960-03-01T00:00:00",
          "1960-04-01T00:00:00",
          "1960-05-01T00:00:00",
          "1960-06-01T00:00:00",
          "1960-07-01T00:00:00",
          "1960-08-01T00:00:00",
          "1960-09-01T00:00:00",
          "1960-10-01T00:00:00",
          "1960-11-01T00:00:00",
          "1960-12-01T00:00:00",
          "1960-12-31T00:00:00",
          "1961-01-31T00:00:00",
          "1961-02-28T00:00:00",
          "1961-03-31T00:00:00",
          "1961-04-30T00:00:00",
          "1961-05-31T00:00:00",
          "1961-06-30T00:00:00",
          "1961-07-31T00:00:00",
          "1961-08-31T00:00:00",
          "1961-09-30T00:00:00",
          "1961-10-31T00:00:00",
          "1961-11-30T00:00:00"
         ],
         "xaxis": "x",
         "y": [
          106.662426,
          108.83545246047794,
          110.79818603768382,
          112.97121249816176,
          115.07414133088236,
          117.24716779136028,
          119.35009660788539,
          121.52312305162802,
          123.69614949537062,
          125.79907831189571,
          127.97210480465723,
          130.07503366862,
          132.2480601613815,
          134.421086654143,
          136.38382026050823,
          138.55684678202138,
          140.6597756738083,
          142.83280219532142,
          144.93573108710834,
          147.10875760878457,
          149.28178413046084,
          151.38471302240558,
          153.5577395440818,
          155.66066843602655,
          157.83369497602834,
          160.0067215160301,
          161.96945516506395,
          164.1424817050657,
          166.24541061659392,
          168.41843715850638,
          170.52136607003453,
          172.694392611947,
          174.86741915385943,
          176.97034807129322,
          179.14337461930805,
          181.2463035367418,
          183.41933008475667,
          185.59235664668793,
          187.62518794655915,
          189.79821450849042,
          191.90114343939166,
          194.07417000132293,
          196.1770989235272,
          198.35012547647167,
          200.52315202941614,
          202.62608095162042,
          204.7991075045649,
          206.90203642780256,
          209.0750629818148,
          211.24808953582706,
          213.21082319751554,
          215.38384977273606,
          217.48677871649778,
          219.65980529171824,
          221.76273423548002,
          223.93576081070046,
          226.23271012383455,
          228.45556429783528,
          230.75251361096937,
          232.97536778497005,
          235.46028824222174,
          237.94520869947348,
          240.18965298344276,
          242.67457344069447,
          245.07933517351876,
          247.80766208182746,
          250.44797844470685,
          253.17630535301555,
          255.90463226132428,
          258.76628786731027,
          261.72333199349583,
          264.58498759948185,
          267.5420317256674,
          270.4990758518529,
          273.2947129249766,
          276.3898825416493,
          279.385207977139,
          282.4803775938116,
          285.47570302930137,
          288.59309497374977,
          291.7104869181982,
          294.7273178321805,
          297.84470977662886,
          300.86154068636034,
          303.97893262641617,
          307.09632456647205,
          310.0125944458791,
          313.1299863859349,
          316.1468173247693,
          319.26420929489825,
          322.2810402337327,
          325.39843220386155,
          328.5158241732647,
          331.5326551113967,
          334.6500470807997,
          337.66687801893175,
          340.78426998833487,
          343.9016619796875,
          346.7173708751027,
          349.8347628664553,
          352.85159382582884,
          355.9689857929007,
          358.9858167287767,
          362.10320869584865,
          365.2206006629204,
          368.23743159879643,
          371.35482358776875,
          374.3716545448388,
          377.48904653381106,
          380.60643852278344,
          383.4221492199213,
          386.53954320603833,
          389.5563760958289,
          392.6737700819459,
          395.6906029717365,
          398.8079976302645,
          401.92539228879247,
          404.9422258293034,
          408.05962048783147,
          411.07645402834237,
          414.19384868687035,
          417.31124334539845,
          420.1269546498753,
          423.2443493084033,
          426.26118284891425,
          429.37857750744223,
          432.39541104795325,
          435.51280570648123,
          438.6302003650092,
          441.6470339055201,
          444.7644285640482,
          447.7812621045591,
          450.8986567630871,
          454.01605142161515,
          456.932323844109,
          460.04971850263706,
          463.06655204314796,
          466.18394670167606,
          469.20078024218697,
          472.31817490071495,
          475.435569559243,
          478.4524030997539,
          481.569797758282,
          484.5866312987929,
          487.6034648393038,
          490.709166559294,
          493.50219444663935,
          496.5815107328258,
          499.548395541952,
          502.61705125418365,
          505.55311901654693,
          508.58970596221224,
          511.6518497477811,
          514.5900953544348,
          517.6332336791678,
          520.5801361821266
         ],
         "yaxis": "y"
        },
        {
         "line": {
          "color": "#0072B2",
          "width": 2
         },
         "mode": "lines",
         "name": "monthly",
         "type": "scatter",
         "x": [
          "2017-01-01T00:00:00",
          "2017-01-02T00:24:00",
          "2017-01-03T00:48:00",
          "2017-01-04T01:12:00",
          "2017-01-05T01:36:00",
          "2017-01-06T02:00:00",
          "2017-01-07T02:24:00",
          "2017-01-08T02:48:00",
          "2017-01-09T03:12:00",
          "2017-01-10T03:36:00",
          "2017-01-11T04:00:00",
          "2017-01-12T04:24:00",
          "2017-01-13T04:48:00",
          "2017-01-14T05:12:00",
          "2017-01-15T05:36:00",
          "2017-01-16T06:00:00",
          "2017-01-17T06:24:00",
          "2017-01-18T06:48:00",
          "2017-01-19T07:12:00",
          "2017-01-20T07:36:00",
          "2017-01-21T08:00:00",
          "2017-01-22T08:24:00",
          "2017-01-23T08:48:00",
          "2017-01-24T09:12:00",
          "2017-01-25T09:36:00",
          "2017-01-26T10:00:00",
          "2017-01-27T10:24:00",
          "2017-01-28T10:48:00",
          "2017-01-29T11:12:00",
          "2017-01-30T11:36:00"
         ],
         "xaxis": "x2",
         "y": [
          66.66817881597079,
          50.19779630308317,
          -16.99942063583047,
          -77.12964255789613,
          -77.07651049638109,
          -12.303994327841274,
          70.92245743306425,
          114.6590873076058,
          94.18120716975942,
          31.24265002360471,
          -30.844360724990132,
          -63.60716252811219,
          -69.01457633628385,
          -65.9298566025829,
          -66.6987095897118,
          -68.07652169578108,
          -61.38098920122341,
          -45.81322164649306,
          -28.26387494538458,
          -11.311444470589356,
          13.37140434461848,
          54.55681835162964,
          103.3967506276769,
          130.03793326662222,
          105.3231302275113,
          31.185293587719876,
          -50.68892035872292,
          -86.22861931674869,
          -52.895766330605525,
          18.520884305509846
         ],
         "yaxis": "y2"
        },
        {
         "line": {
          "color": "#0072B2",
          "width": 2
         },
         "mode": "lines",
         "name": "yearly",
         "type": "scatter",
         "x": [
          "2017-01-01T00:00:00",
          "2017-01-02T00:00:59.178082",
          "2017-01-03T00:01:58.356164",
          "2017-01-04T00:02:57.534246",
          "2017-01-05T00:03:56.712328",
          "2017-01-06T00:04:55.890411",
          "2017-01-07T00:05:55.068493",
          "2017-01-08T00:06:54.246575",
          "2017-01-09T00:07:53.424657",
          "2017-01-10T00:08:52.602739",
          "2017-01-11T00:09:51.780822",
          "2017-01-12T00:10:50.958904",
          "2017-01-13T00:11:50.136986",
          "2017-01-14T00:12:49.315068",
          "2017-01-15T00:13:48.493150",
          "2017-01-16T00:14:47.671232",
          "2017-01-17T00:15:46.849315",
          "2017-01-18T00:16:46.027397",
          "2017-01-19T00:17:45.205479",
          "2017-01-20T00:18:44.383561",
          "2017-01-21T00:19:43.561643",
          "2017-01-22T00:20:42.739726",
          "2017-01-23T00:21:41.917808",
          "2017-01-24T00:22:41.095890",
          "2017-01-25T00:23:40.273972",
          "2017-01-26T00:24:39.452054",
          "2017-01-27T00:25:38.630137",
          "2017-01-28T00:26:37.808219",
          "2017-01-29T00:27:36.986301",
          "2017-01-30T00:28:36.164383",
          "2017-01-31T00:29:35.342465",
          "2017-02-01T00:30:34.520547",
          "2017-02-02T00:31:33.698630",
          "2017-02-03T00:32:32.876712",
          "2017-02-04T00:33:32.054794",
          "2017-02-05T00:34:31.232876",
          "2017-02-06T00:35:30.410958",
          "2017-02-07T00:36:29.589041",
          "2017-02-08T00:37:28.767123",
          "2017-02-09T00:38:27.945205",
          "2017-02-10T00:39:27.123287",
          "2017-02-11T00:40:26.301369",
          "2017-02-12T00:41:25.479452",
          "2017-02-13T00:42:24.657534",
          "2017-02-14T00:43:23.835616",
          "2017-02-15T00:44:23.013698",
          "2017-02-16T00:45:22.191780",
          "2017-02-17T00:46:21.369862",
          "2017-02-18T00:47:20.547945",
          "2017-02-19T00:48:19.726027",
          "2017-02-20T00:49:18.904109",
          "2017-02-21T00:50:18.082191",
          "2017-02-22T00:51:17.260273",
          "2017-02-23T00:52:16.438356",
          "2017-02-24T00:53:15.616438",
          "2017-02-25T00:54:14.794520",
          "2017-02-26T00:55:13.972602",
          "2017-02-27T00:56:13.150684",
          "2017-02-28T00:57:12.328767",
          "2017-03-01T00:58:11.506849",
          "2017-03-02T00:59:10.684931",
          "2017-03-03T01:00:09.863013",
          "2017-03-04T01:01:09.041095",
          "2017-03-05T01:02:08.219177",
          "2017-03-06T01:03:07.397260",
          "2017-03-07T01:04:06.575342",
          "2017-03-08T01:05:05.753424",
          "2017-03-09T01:06:04.931506",
          "2017-03-10T01:07:04.109588",
          "2017-03-11T01:08:03.287671",
          "2017-03-12T01:09:02.465753",
          "2017-03-13T01:10:01.643835",
          "2017-03-14T01:11:00.821917",
          "2017-03-15T01:12:00",
          "2017-03-16T01:12:59.178082",
          "2017-03-17T01:13:58.356164",
          "2017-03-18T01:14:57.534246",
          "2017-03-19T01:15:56.712328",
          "2017-03-20T01:16:55.890411",
          "2017-03-21T01:17:55.068493",
          "2017-03-22T01:18:54.246575",
          "2017-03-23T01:19:53.424657",
          "2017-03-24T01:20:52.602739",
          "2017-03-25T01:21:51.780822",
          "2017-03-26T01:22:50.958904",
          "2017-03-27T01:23:50.136986",
          "2017-03-28T01:24:49.315068",
          "2017-03-29T01:25:48.493150",
          "2017-03-30T01:26:47.671232",
          "2017-03-31T01:27:46.849315",
          "2017-04-01T01:28:46.027397",
          "2017-04-02T01:29:45.205479",
          "2017-04-03T01:30:44.383561",
          "2017-04-04T01:31:43.561643",
          "2017-04-05T01:32:42.739726",
          "2017-04-06T01:33:41.917808",
          "2017-04-07T01:34:41.095890",
          "2017-04-08T01:35:40.273972",
          "2017-04-09T01:36:39.452054",
          "2017-04-10T01:37:38.630137",
          "2017-04-11T01:38:37.808219",
          "2017-04-12T01:39:36.986301",
          "2017-04-13T01:40:36.164383",
          "2017-04-14T01:41:35.342465",
          "2017-04-15T01:42:34.520547",
          "2017-04-16T01:43:33.698630",
          "2017-04-17T01:44:32.876712",
          "2017-04-18T01:45:32.054794",
          "2017-04-19T01:46:31.232876",
          "2017-04-20T01:47:30.410958",
          "2017-04-21T01:48:29.589041",
          "2017-04-22T01:49:28.767123",
          "2017-04-23T01:50:27.945205",
          "2017-04-24T01:51:27.123287",
          "2017-04-25T01:52:26.301369",
          "2017-04-26T01:53:25.479452",
          "2017-04-27T01:54:24.657534",
          "2017-04-28T01:55:23.835616",
          "2017-04-29T01:56:23.013698",
          "2017-04-30T01:57:22.191780",
          "2017-05-01T01:58:21.369862",
          "2017-05-02T01:59:20.547945",
          "2017-05-03T02:00:19.726027",
          "2017-05-04T02:01:18.904109",
          "2017-05-05T02:02:18.082191",
          "2017-05-06T02:03:17.260273",
          "2017-05-07T02:04:16.438356",
          "2017-05-08T02:05:15.616438",
          "2017-05-09T02:06:14.794520",
          "2017-05-10T02:07:13.972602",
          "2017-05-11T02:08:13.150684",
          "2017-05-12T02:09:12.328767",
          "2017-05-13T02:10:11.506849",
          "2017-05-14T02:11:10.684931",
          "2017-05-15T02:12:09.863013",
          "2017-05-16T02:13:09.041095",
          "2017-05-17T02:14:08.219177",
          "2017-05-18T02:15:07.397260",
          "2017-05-19T02:16:06.575342",
          "2017-05-20T02:17:05.753424",
          "2017-05-21T02:18:04.931506",
          "2017-05-22T02:19:04.109588",
          "2017-05-23T02:20:03.287671",
          "2017-05-24T02:21:02.465753",
          "2017-05-25T02:22:01.643835",
          "2017-05-26T02:23:00.821917",
          "2017-05-27T02:24:00",
          "2017-05-28T02:24:59.178082",
          "2017-05-29T02:25:58.356164",
          "2017-05-30T02:26:57.534246",
          "2017-05-31T02:27:56.712328",
          "2017-06-01T02:28:55.890411",
          "2017-06-02T02:29:55.068493",
          "2017-06-03T02:30:54.246575",
          "2017-06-04T02:31:53.424657",
          "2017-06-05T02:32:52.602739",
          "2017-06-06T02:33:51.780822",
          "2017-06-07T02:34:50.958904",
          "2017-06-08T02:35:50.136986",
          "2017-06-09T02:36:49.315068",
          "2017-06-10T02:37:48.493150",
          "2017-06-11T02:38:47.671232",
          "2017-06-12T02:39:46.849315",
          "2017-06-13T02:40:46.027397",
          "2017-06-14T02:41:45.205479",
          "2017-06-15T02:42:44.383561",
          "2017-06-16T02:43:43.561643",
          "2017-06-17T02:44:42.739726",
          "2017-06-18T02:45:41.917808",
          "2017-06-19T02:46:41.095890",
          "2017-06-20T02:47:40.273972",
          "2017-06-21T02:48:39.452054",
          "2017-06-22T02:49:38.630137",
          "2017-06-23T02:50:37.808219",
          "2017-06-24T02:51:36.986301",
          "2017-06-25T02:52:36.164383",
          "2017-06-26T02:53:35.342465",
          "2017-06-27T02:54:34.520547",
          "2017-06-28T02:55:33.698630",
          "2017-06-29T02:56:32.876712",
          "2017-06-30T02:57:32.054794",
          "2017-07-01T02:58:31.232876",
          "2017-07-02T02:59:30.410958",
          "2017-07-03T03:00:29.589041",
          "2017-07-04T03:01:28.767123",
          "2017-07-05T03:02:27.945205",
          "2017-07-06T03:03:27.123287",
          "2017-07-07T03:04:26.301369",
          "2017-07-08T03:05:25.479452",
          "2017-07-09T03:06:24.657534",
          "2017-07-10T03:07:23.835616",
          "2017-07-11T03:08:23.013698",
          "2017-07-12T03:09:22.191780",
          "2017-07-13T03:10:21.369862",
          "2017-07-14T03:11:20.547945",
          "2017-07-15T03:12:19.726027",
          "2017-07-16T03:13:18.904109",
          "2017-07-17T03:14:18.082191",
          "2017-07-18T03:15:17.260273",
          "2017-07-19T03:16:16.438356",
          "2017-07-20T03:17:15.616438",
          "2017-07-21T03:18:14.794520",
          "2017-07-22T03:19:13.972602",
          "2017-07-23T03:20:13.150684",
          "2017-07-24T03:21:12.328767",
          "2017-07-25T03:22:11.506849",
          "2017-07-26T03:23:10.684931",
          "2017-07-27T03:24:09.863013",
          "2017-07-28T03:25:09.041095",
          "2017-07-29T03:26:08.219177",
          "2017-07-30T03:27:07.397260",
          "2017-07-31T03:28:06.575342",
          "2017-08-01T03:29:05.753424",
          "2017-08-02T03:30:04.931506",
          "2017-08-03T03:31:04.109588",
          "2017-08-04T03:32:03.287671",
          "2017-08-05T03:33:02.465753",
          "2017-08-06T03:34:01.643835",
          "2017-08-07T03:35:00.821917",
          "2017-08-08T03:36:00",
          "2017-08-09T03:36:59.178082",
          "2017-08-10T03:37:58.356164",
          "2017-08-11T03:38:57.534246",
          "2017-08-12T03:39:56.712328",
          "2017-08-13T03:40:55.890411",
          "2017-08-14T03:41:55.068493",
          "2017-08-15T03:42:54.246575",
          "2017-08-16T03:43:53.424657",
          "2017-08-17T03:44:52.602739",
          "2017-08-18T03:45:51.780822",
          "2017-08-19T03:46:50.958904",
          "2017-08-20T03:47:50.136986",
          "2017-08-21T03:48:49.315068",
          "2017-08-22T03:49:48.493150",
          "2017-08-23T03:50:47.671232",
          "2017-08-24T03:51:46.849315",
          "2017-08-25T03:52:46.027397",
          "2017-08-26T03:53:45.205479",
          "2017-08-27T03:54:44.383561",
          "2017-08-28T03:55:43.561643",
          "2017-08-29T03:56:42.739726",
          "2017-08-30T03:57:41.917808",
          "2017-08-31T03:58:41.095890",
          "2017-09-01T03:59:40.273972",
          "2017-09-02T04:00:39.452054",
          "2017-09-03T04:01:38.630137",
          "2017-09-04T04:02:37.808219",
          "2017-09-05T04:03:36.986301",
          "2017-09-06T04:04:36.164383",
          "2017-09-07T04:05:35.342465",
          "2017-09-08T04:06:34.520547",
          "2017-09-09T04:07:33.698630",
          "2017-09-10T04:08:32.876712",
          "2017-09-11T04:09:32.054794",
          "2017-09-12T04:10:31.232876",
          "2017-09-13T04:11:30.410958",
          "2017-09-14T04:12:29.589041",
          "2017-09-15T04:13:28.767123",
          "2017-09-16T04:14:27.945205",
          "2017-09-17T04:15:27.123287",
          "2017-09-18T04:16:26.301369",
          "2017-09-19T04:17:25.479452",
          "2017-09-20T04:18:24.657534",
          "2017-09-21T04:19:23.835616",
          "2017-09-22T04:20:23.013698",
          "2017-09-23T04:21:22.191780",
          "2017-09-24T04:22:21.369862",
          "2017-09-25T04:23:20.547945",
          "2017-09-26T04:24:19.726027",
          "2017-09-27T04:25:18.904109",
          "2017-09-28T04:26:18.082191",
          "2017-09-29T04:27:17.260273",
          "2017-09-30T04:28:16.438356",
          "2017-10-01T04:29:15.616438",
          "2017-10-02T04:30:14.794520",
          "2017-10-03T04:31:13.972602",
          "2017-10-04T04:32:13.150684",
          "2017-10-05T04:33:12.328767",
          "2017-10-06T04:34:11.506849",
          "2017-10-07T04:35:10.684931",
          "2017-10-08T04:36:09.863013",
          "2017-10-09T04:37:09.041095",
          "2017-10-10T04:38:08.219177",
          "2017-10-11T04:39:07.397260",
          "2017-10-12T04:40:06.575342",
          "2017-10-13T04:41:05.753424",
          "2017-10-14T04:42:04.931506",
          "2017-10-15T04:43:04.109588",
          "2017-10-16T04:44:03.287671",
          "2017-10-17T04:45:02.465753",
          "2017-10-18T04:46:01.643835",
          "2017-10-19T04:47:00.821917",
          "2017-10-20T04:48:00",
          "2017-10-21T04:48:59.178082",
          "2017-10-22T04:49:58.356164",
          "2017-10-23T04:50:57.534246",
          "2017-10-24T04:51:56.712328",
          "2017-10-25T04:52:55.890411",
          "2017-10-26T04:53:55.068493",
          "2017-10-27T04:54:54.246575",
          "2017-10-28T04:55:53.424657",
          "2017-10-29T04:56:52.602739",
          "2017-10-30T04:57:51.780822",
          "2017-10-31T04:58:50.958904",
          "2017-11-01T04:59:50.136986",
          "2017-11-02T05:00:49.315068",
          "2017-11-03T05:01:48.493150",
          "2017-11-04T05:02:47.671232",
          "2017-11-05T05:03:46.849315",
          "2017-11-06T05:04:46.027397",
          "2017-11-07T05:05:45.205479",
          "2017-11-08T05:06:44.383561",
          "2017-11-09T05:07:43.561643",
          "2017-11-10T05:08:42.739726",
          "2017-11-11T05:09:41.917808",
          "2017-11-12T05:10:41.095890",
          "2017-11-13T05:11:40.273972",
          "2017-11-14T05:12:39.452054",
          "2017-11-15T05:13:38.630137",
          "2017-11-16T05:14:37.808219",
          "2017-11-17T05:15:36.986301",
          "2017-11-18T05:16:36.164383",
          "2017-11-19T05:17:35.342465",
          "2017-11-20T05:18:34.520547",
          "2017-11-21T05:19:33.698630",
          "2017-11-22T05:20:32.876712",
          "2017-11-23T05:21:32.054794",
          "2017-11-24T05:22:31.232876",
          "2017-11-25T05:23:30.410958",
          "2017-11-26T05:24:29.589041",
          "2017-11-27T05:25:28.767123",
          "2017-11-28T05:26:27.945205",
          "2017-11-29T05:27:27.123287",
          "2017-11-30T05:28:26.301369",
          "2017-12-01T05:29:25.479452",
          "2017-12-02T05:30:24.657534",
          "2017-12-03T05:31:23.835616",
          "2017-12-04T05:32:23.013698",
          "2017-12-05T05:33:22.191780",
          "2017-12-06T05:34:21.369862",
          "2017-12-07T05:35:20.547945",
          "2017-12-08T05:36:19.726027",
          "2017-12-09T05:37:18.904109",
          "2017-12-10T05:38:18.082191",
          "2017-12-11T05:39:17.260273",
          "2017-12-12T05:40:16.438356",
          "2017-12-13T05:41:15.616438",
          "2017-12-14T05:42:14.794520",
          "2017-12-15T05:43:13.972602",
          "2017-12-16T05:44:13.150684",
          "2017-12-17T05:45:12.328767",
          "2017-12-18T05:46:11.506849",
          "2017-12-19T05:47:10.684931",
          "2017-12-20T05:48:09.863013",
          "2017-12-21T05:49:09.041095",
          "2017-12-22T05:50:08.219177",
          "2017-12-23T05:51:07.397260",
          "2017-12-24T05:52:06.575342",
          "2017-12-25T05:53:05.753424",
          "2017-12-26T05:54:04.931506",
          "2017-12-27T05:55:04.109588",
          "2017-12-28T05:56:03.287671",
          "2017-12-29T05:57:02.465753",
          "2017-12-30T05:58:01.643835",
          "2017-12-31T05:59:00.821917"
         ],
         "xaxis": "x3",
         "y": [
          -29.092032705312217,
          -28.010235921668038,
          -26.845010250938106,
          -25.615992178627966,
          -24.346441994883172,
          -23.06286013162827,
          -21.794461261273945,
          -20.57260172659654,
          -19.429952421842465,
          -18.399728458981166,
          -17.514773724969174,
          -16.806612455179636,
          -16.304474324681646,
          -16.03435069013282,
          -16.01802929951367,
          -16.272254105920783,
          -16.807944426950183,
          -17.629551821474234,
          -18.734508735058157,
          -20.11294151723893,
          -21.74747535668851,
          -23.613278555266906,
          -25.678303793190114,
          -27.903763230534228,
          -30.244676206092795,
          -32.65087195699471,
          -35.06791528053811,
          -37.43831797752386,
          -39.702858834390526,
          -41.802029721790426,
          -43.677432002237175,
          -45.27344625860285,
          -46.5386473171809,
          -47.427295699922446,
          -47.900717361818124,
          -47.928534643838546,
          -47.48978176435587,
          -46.573759925412354,
          -45.18069818965131,
          -43.32215275725371,
          -41.02110526628309,
          -38.31191834714478,
          -35.23973119169694,
          -31.859832121796142,
          -28.236630834454015,
          -24.44235359199247,
          -20.555729110995333,
          -16.66003205204069,
          -12.841403244839512,
          -9.18683225267473,
          -5.782109422857614,
          -2.7097204147543574,
          -0.04693918324198644,
          2.1363539635824753,
          3.7793643409734843,
          4.832083267833077,
          5.256730191448058,
          5.028928144799299,
          4.138609960337176,
          2.5905699444346206,
          0.4046939605554835,
          -2.384163057116555,
          -5.726695843135665,
          -9.559811807082099,
          -13.808020568369338,
          -18.384750298575074,
          -23.194126248298648,
          -28.132952971243974,
          -33.092948264844374,
          -37.9628349931381,
          -42.63110017050514,
          -46.98821201693877,
          -50.929102474047795,
          -54.355548539189265,
          -57.17822895825882,
          -59.31898466591766,
          -60.71243766819553,
          -61.307539424981535,
          -61.068761508046656,
          -59.976925424164676,
          -58.02974726881767,
          -55.24187166101911,
          -51.64464524895407,
          -47.285472360429175,
          -42.22682447814984,
          -36.54485119981055,
          -30.328033167148114,
          -23.674910605571863,
          -16.69225143529079,
          -9.49273725406867,
          -2.19251743474701,
          5.0908670185394005,
          12.241404915365038,
          19.146631256993157,
          25.69995390860213,
          31.802733942267594,
          37.366218953769064,
          42.31291632687497,
          46.578323876859834,
          50.11170109041038,
          52.87684758000252,
          54.85247904594183,
          56.03227615636052,
          56.424549995612225,
          56.051720371940114,
          54.9493569593055,
          53.165040012924216,
          50.75694422005078,
          47.79238503463222,
          44.3459339276503,
          40.497709028315434,
          36.33148566758916,
          31.932827775439797,
          27.38720853959204,
          22.77848203721944,
          18.186951330326902,
          13.68812395239067,
          9.351396285748722,
          5.238958035230891,
          1.405161883745265,
          -2.1043391409635333,
          -5.252729195042843,
          -8.012168123868317,
          -10.363649374162536,
          -12.296662317822458,
          -13.808556170872484,
          -14.903954915544446,
          -15.593805973475634,
          -15.894443144649175,
          -15.826554436941343,
          -15.414108168599558,
          -14.68330867515571,
          -13.661533077695594,
          -12.376376932517868,
          -10.854773805436654,
          -9.122212503206006,
          -7.202193258509614,
          -5.1156298723836855,
          -2.880608414840612,
          -0.5122099596315617,
          1.977489291693806,
          4.579297811221695,
          7.286498059640771,
          10.094617120518585,
          13.000797358989232,
          16.003239514451643,
          19.100602603944626,
          22.291200373416025,
          25.572562232988,
          28.940669377080802,
          32.3894265906094,
          35.910180513685226,
          39.49138187252431,
          43.11815863639024,
          46.772436066731856,
          50.43278250145971,
          54.074604187605274,
          57.67043998804065,
          61.190430501522336,
          64.60270787625886,
          67.87429972478218,
          70.9717118350289,
          73.86178138122794,
          76.51255815390417,
          78.894050074185,
          80.97925890836609,
          82.74486402182374,
          84.17199587523851,
          85.24688447298838,
          85.96139883457532,
          86.31341738213635,
          86.30712766293756,
          85.95307931794962,
          85.26811889708603,
          84.27514744529167,
          83.00269893379091,
          81.48444296865527,
          79.7583957329442,
          77.86615292873027,
          75.85195203451894,
          73.76164641199651,
          71.6417516437754,
          69.53822703445877,
          67.4955075011297,
          65.55545248470595,
          63.75638423946623,
          62.13220045332076,
          60.71169347909285,
          59.517819568549264,
          58.56731188043522,
          57.87036120870133,
          57.43048558143824,
          57.24459587872502,
          57.30318618059879,
          57.590742908822335,
          58.08627679493887,
          58.76399754738188,
          59.594114541220826,
          60.54367887176774,
          61.57758960368856,
          62.659542580129006,
          63.75303404560661,
          64.82233558027002,
          65.83343231195332,
          66.7548294139253,
          67.5583771858323,
          68.21985845992414,
          68.7194999277087,
          69.0423252197058,
          69.17833550917665,
          69.12256536590367,
          68.87494036190634,
          68.44000464249206,
          67.82650294517771,
          67.04682741493913,
          66.11640639456343,
          65.0529172964535,
          63.87552968850452,
          62.604074175972926,
          61.25819927241406,
          59.8566308261925,
          58.41632488398528,
          56.95185145510328,
          55.474799692784835,
          53.993316117228446,
          52.51175943014489,
          51.0305862907766,
          49.54621803819985,
          48.05123319722584,
          46.53462579924404,
          44.98222464729984,
          43.377225048731326,
          41.70092899852798,
          39.93339366674838,
          38.05433476582753,
          36.04398246078706,
          33.8839457965661,
          31.55819205259012,
          29.053733341941275,
          26.36149132407648,
          23.47694416557834,
          20.400678183855117,
          17.138760912975705,
          13.703149750056257,
          10.111552573551009,
          6.38748831468297,
          2.5599844502123688,
          -1.3368631571213438,
          -5.264541782159715,
          -9.180698250213947,
          -13.040305262475258,
          -16.796484688556173,
          -20.40164441771572,
          -23.808665589833705,
          -26.971923194375094,
          -29.848694175012024,
          -32.40013034158094,
          -34.59236338941052,
          -36.39747004692343,
          -37.79432395798931,
          -38.76922237128662,
          -39.3164975855087,
          -39.438773132101396,
          -39.14710837448767,
          -38.46090879336378,
          -37.40767675295194,
          -36.022476799571216,
          -34.347286143494244,
          -32.43013721357406,
          -30.32411157891019,
          -28.086177693822876,
          -25.776058577575267,
          -23.454767106464207,
          -21.18336234436356,
          -19.021573477754746,
          -17.026478468336375,
          -15.251226144380517,
          -13.743950821691929,
          -12.546605836726119,
          -11.69415451714566,
          -11.213823376993638,
          -11.124564898444541,
          -11.436716949411629,
          -12.151861316948137,
          -13.26290382669275,
          -14.754344556704869,
          -16.60274435959164,
          -18.777397072853677,
          -21.24103044920495,
          -23.95090069557716,
          -26.85974987364717,
          -29.9169673129317,
          -33.0698178740713,
          -36.26450882170185,
          -39.44761513599212,
          -42.56710120863325,
          -45.573457269388314,
          -48.42070706764925,
          -51.06732923927013,
          -53.47689435030919,
          -55.6188563753733,
          -57.468873842595436,
          -59.009121304214915,
          -60.228400749449115,
          -61.12209648720464,
          -61.691926697745856,
          -61.94564886969251,
          -61.896527839364396,
          -61.56274936558193,
          -60.96672227144954,
          -60.13435140336409,
          -59.09419371204676,
          -57.87666077915916,
          -56.51319456915455,
          -55.035474790172465,
          -53.47465496007306,
          -51.86075584741242,
          -50.22195841066328,
          -48.584171405310926,
          -46.97061297371575,
          -45.401518601470706,
          -43.893942533867815,
          -42.46175385050687,
          -41.11556190412793,
          -39.862912058888185,
          -38.70847644915994,
          -37.65432091662056,
          -36.700285820719095,
          -35.84428431129161,
          -35.08274487707855,
          -34.41099540625823,
          -33.82364796532509,
          -33.31495102499386,
          -32.87912936018815,
          -32.51061465747097,
          -32.20427568674126,
          -31.95555209076014,
          -31.760524158890604,
          -31.615924925327366,
          -31.519065693930724,
          -31.46772610103928,
          -31.459982204031075,
          -31.49399821514123,
          -31.567793053810473,
          -31.678989587152717,
          -31.824575154445732,
          -32.00067089524647,
          -32.20233585981428,
          -32.42341483466343,
          -32.65644481274354,
          -32.89261317662455,
          -33.1218155070943,
          -33.33276278140019,
          -33.513179448811584,
          -33.65007542465175,
          -33.7300807819304,
          -33.73985728120148,
          -33.66654287690176,
          -33.49824070006821,
          -33.22452547168382,
          -32.83694605848982,
          -32.32953469478594,
          -31.69923288212616,
          -30.94630402686969,
          -30.07465081443492
         ],
         "yaxis": "y3"
        }
       ],
       "layout": {
        "height": 600,
        "showlegend": false,
        "template": {
         "data": {
          "bar": [
           {
            "error_x": {
             "color": "#2a3f5f"
            },
            "error_y": {
             "color": "#2a3f5f"
            },
            "marker": {
             "line": {
              "color": "#E5ECF6",
              "width": 0.5
             },
             "pattern": {
              "fillmode": "overlay",
              "size": 10,
              "solidity": 0.2
             }
            },
            "type": "bar"
           }
          ],
          "barpolar": [
           {
            "marker": {
             "line": {
              "color": "#E5ECF6",
              "width": 0.5
             },
             "pattern": {
              "fillmode": "overlay",
              "size": 10,
              "solidity": 0.2
             }
            },
            "type": "barpolar"
           }
          ],
          "carpet": [
           {
            "aaxis": {
             "endlinecolor": "#2a3f5f",
             "gridcolor": "white",
             "linecolor": "white",
             "minorgridcolor": "white",
             "startlinecolor": "#2a3f5f"
            },
            "baxis": {
             "endlinecolor": "#2a3f5f",
             "gridcolor": "white",
             "linecolor": "white",
             "minorgridcolor": "white",
             "startlinecolor": "#2a3f5f"
            },
            "type": "carpet"
           }
          ],
          "choropleth": [
           {
            "colorbar": {
             "outlinewidth": 0,
             "ticks": ""
            },
            "type": "choropleth"
           }
          ],
          "contour": [
           {
            "colorbar": {
             "outlinewidth": 0,
             "ticks": ""
            },
            "colorscale": [
             [
              0,
              "#0d0887"
             ],
             [
              0.1111111111111111,
              "#46039f"
             ],
             [
              0.2222222222222222,
              "#7201a8"
             ],
             [
              0.3333333333333333,
              "#9c179e"
             ],
             [
              0.4444444444444444,
              "#bd3786"
             ],
             [
              0.5555555555555556,
              "#d8576b"
             ],
             [
              0.6666666666666666,
              "#ed7953"
             ],
             [
              0.7777777777777778,
              "#fb9f3a"
             ],
             [
              0.8888888888888888,
              "#fdca26"
             ],
             [
              1,
              "#f0f921"
             ]
            ],
            "type": "contour"
           }
          ],
          "contourcarpet": [
           {
            "colorbar": {
             "outlinewidth": 0,
             "ticks": ""
            },
            "type": "contourcarpet"
           }
          ],
          "heatmap": [
           {
            "colorbar": {
             "outlinewidth": 0,
             "ticks": ""
            },
            "colorscale": [
             [
              0,
              "#0d0887"
             ],
             [
              0.1111111111111111,
              "#46039f"
             ],
             [
              0.2222222222222222,
              "#7201a8"
             ],
             [
              0.3333333333333333,
              "#9c179e"
             ],
             [
              0.4444444444444444,
              "#bd3786"
             ],
             [
              0.5555555555555556,
              "#d8576b"
             ],
             [
              0.6666666666666666,
              "#ed7953"
             ],
             [
              0.7777777777777778,
              "#fb9f3a"
             ],
             [
              0.8888888888888888,
              "#fdca26"
             ],
             [
              1,
              "#f0f921"
             ]
            ],
            "type": "heatmap"
           }
          ],
          "heatmapgl": [
           {
            "colorbar": {
             "outlinewidth": 0,
             "ticks": ""
            },
            "colorscale": [
             [
              0,
              "#0d0887"
             ],
             [
              0.1111111111111111,
              "#46039f"
             ],
             [
              0.2222222222222222,
              "#7201a8"
             ],
             [
              0.3333333333333333,
              "#9c179e"
             ],
             [
              0.4444444444444444,
              "#bd3786"
             ],
             [
              0.5555555555555556,
              "#d8576b"
             ],
             [
              0.6666666666666666,
              "#ed7953"
             ],
             [
              0.7777777777777778,
              "#fb9f3a"
             ],
             [
              0.8888888888888888,
              "#fdca26"
             ],
             [
              1,
              "#f0f921"
             ]
            ],
            "type": "heatmapgl"
           }
          ],
          "histogram": [
           {
            "marker": {
             "pattern": {
              "fillmode": "overlay",
              "size": 10,
              "solidity": 0.2
             }
            },
            "type": "histogram"
           }
          ],
          "histogram2d": [
           {
            "colorbar": {
             "outlinewidth": 0,
             "ticks": ""
            },
            "colorscale": [
             [
              0,
              "#0d0887"
             ],
             [
              0.1111111111111111,
              "#46039f"
             ],
             [
              0.2222222222222222,
              "#7201a8"
             ],
             [
              0.3333333333333333,
              "#9c179e"
             ],
             [
              0.4444444444444444,
              "#bd3786"
             ],
             [
              0.5555555555555556,
              "#d8576b"
             ],
             [
              0.6666666666666666,
              "#ed7953"
             ],
             [
              0.7777777777777778,
              "#fb9f3a"
             ],
             [
              0.8888888888888888,
              "#fdca26"
             ],
             [
              1,
              "#f0f921"
             ]
            ],
            "type": "histogram2d"
           }
          ],
          "histogram2dcontour": [
           {
            "colorbar": {
             "outlinewidth": 0,
             "ticks": ""
            },
            "colorscale": [
             [
              0,
              "#0d0887"
             ],
             [
              0.1111111111111111,
              "#46039f"
             ],
             [
              0.2222222222222222,
              "#7201a8"
             ],
             [
              0.3333333333333333,
              "#9c179e"
             ],
             [
              0.4444444444444444,
              "#bd3786"
             ],
             [
              0.5555555555555556,
              "#d8576b"
             ],
             [
              0.6666666666666666,
              "#ed7953"
             ],
             [
              0.7777777777777778,
              "#fb9f3a"
             ],
             [
              0.8888888888888888,
              "#fdca26"
             ],
             [
              1,
              "#f0f921"
             ]
            ],
            "type": "histogram2dcontour"
           }
          ],
          "mesh3d": [
           {
            "colorbar": {
             "outlinewidth": 0,
             "ticks": ""
            },
            "type": "mesh3d"
           }
          ],
          "parcoords": [
           {
            "line": {
             "colorbar": {
              "outlinewidth": 0,
              "ticks": ""
             }
            },
            "type": "parcoords"
           }
          ],
          "pie": [
           {
            "automargin": true,
            "type": "pie"
           }
          ],
          "scatter": [
           {
            "fillpattern": {
             "fillmode": "overlay",
             "size": 10,
             "solidity": 0.2
            },
            "type": "scatter"
           }
          ],
          "scatter3d": [
           {
            "line": {
             "colorbar": {
              "outlinewidth": 0,
              "ticks": ""
             }
            },
            "marker": {
             "colorbar": {
              "outlinewidth": 0,
              "ticks": ""
             }
            },
            "type": "scatter3d"
           }
          ],
          "scattercarpet": [
           {
            "marker": {
             "colorbar": {
              "outlinewidth": 0,
              "ticks": ""
             }
            },
            "type": "scattercarpet"
           }
          ],
          "scattergeo": [
           {
            "marker": {
             "colorbar": {
              "outlinewidth": 0,
              "ticks": ""
             }
            },
            "type": "scattergeo"
           }
          ],
          "scattergl": [
           {
            "marker": {
             "colorbar": {
              "outlinewidth": 0,
              "ticks": ""
             }
            },
            "type": "scattergl"
           }
          ],
          "scattermapbox": [
           {
            "marker": {
             "colorbar": {
              "outlinewidth": 0,
              "ticks": ""
             }
            },
            "type": "scattermapbox"
           }
          ],
          "scatterpolar": [
           {
            "marker": {
             "colorbar": {
              "outlinewidth": 0,
              "ticks": ""
             }
            },
            "type": "scatterpolar"
           }
          ],
          "scatterpolargl": [
           {
            "marker": {
             "colorbar": {
              "outlinewidth": 0,
              "ticks": ""
             }
            },
            "type": "scatterpolargl"
           }
          ],
          "scatterternary": [
           {
            "marker": {
             "colorbar": {
              "outlinewidth": 0,
              "ticks": ""
             }
            },
            "type": "scatterternary"
           }
          ],
          "surface": [
           {
            "colorbar": {
             "outlinewidth": 0,
             "ticks": ""
            },
            "colorscale": [
             [
              0,
              "#0d0887"
             ],
             [
              0.1111111111111111,
              "#46039f"
             ],
             [
              0.2222222222222222,
              "#7201a8"
             ],
             [
              0.3333333333333333,
              "#9c179e"
             ],
             [
              0.4444444444444444,
              "#bd3786"
             ],
             [
              0.5555555555555556,
              "#d8576b"
             ],
             [
              0.6666666666666666,
              "#ed7953"
             ],
             [
              0.7777777777777778,
              "#fb9f3a"
             ],
             [
              0.8888888888888888,
              "#fdca26"
             ],
             [
              1,
              "#f0f921"
             ]
            ],
            "type": "surface"
           }
          ],
          "table": [
           {
            "cells": {
             "fill": {
              "color": "#EBF0F8"
             },
             "line": {
              "color": "white"
             }
            },
            "header": {
             "fill": {
              "color": "#C8D4E3"
             },
             "line": {
              "color": "white"
             }
            },
            "type": "table"
           }
          ]
         },
         "layout": {
          "annotationdefaults": {
           "arrowcolor": "#2a3f5f",
           "arrowhead": 0,
           "arrowwidth": 1
          },
          "autotypenumbers": "strict",
          "coloraxis": {
           "colorbar": {
            "outlinewidth": 0,
            "ticks": ""
           }
          },
          "colorscale": {
           "diverging": [
            [
             0,
             "#8e0152"
            ],
            [
             0.1,
             "#c51b7d"
            ],
            [
             0.2,
             "#de77ae"
            ],
            [
             0.3,
             "#f1b6da"
            ],
            [
             0.4,
             "#fde0ef"
            ],
            [
             0.5,
             "#f7f7f7"
            ],
            [
             0.6,
             "#e6f5d0"
            ],
            [
             0.7,
             "#b8e186"
            ],
            [
             0.8,
             "#7fbc41"
            ],
            [
             0.9,
             "#4d9221"
            ],
            [
             1,
             "#276419"
            ]
           ],
           "sequential": [
            [
             0,
             "#0d0887"
            ],
            [
             0.1111111111111111,
             "#46039f"
            ],
            [
             0.2222222222222222,
             "#7201a8"
            ],
            [
             0.3333333333333333,
             "#9c179e"
            ],
            [
             0.4444444444444444,
             "#bd3786"
            ],
            [
             0.5555555555555556,
             "#d8576b"
            ],
            [
             0.6666666666666666,
             "#ed7953"
            ],
            [
             0.7777777777777778,
             "#fb9f3a"
            ],
            [
             0.8888888888888888,
             "#fdca26"
            ],
            [
             1,
             "#f0f921"
            ]
           ],
           "sequentialminus": [
            [
             0,
             "#0d0887"
            ],
            [
             0.1111111111111111,
             "#46039f"
            ],
            [
             0.2222222222222222,
             "#7201a8"
            ],
            [
             0.3333333333333333,
             "#9c179e"
            ],
            [
             0.4444444444444444,
             "#bd3786"
            ],
            [
             0.5555555555555556,
             "#d8576b"
            ],
            [
             0.6666666666666666,
             "#ed7953"
            ],
            [
             0.7777777777777778,
             "#fb9f3a"
            ],
            [
             0.8888888888888888,
             "#fdca26"
            ],
            [
             1,
             "#f0f921"
            ]
           ]
          },
          "colorway": [
           "#636efa",
           "#EF553B",
           "#00cc96",
           "#ab63fa",
           "#FFA15A",
           "#19d3f3",
           "#FF6692",
           "#B6E880",
           "#FF97FF",
           "#FECB52"
          ],
          "font": {
           "color": "#2a3f5f"
          },
          "geo": {
           "bgcolor": "white",
           "lakecolor": "white",
           "landcolor": "#E5ECF6",
           "showlakes": true,
           "showland": true,
           "subunitcolor": "white"
          },
          "hoverlabel": {
           "align": "left"
          },
          "hovermode": "closest",
          "mapbox": {
           "style": "light"
          },
          "paper_bgcolor": "white",
          "plot_bgcolor": "#E5ECF6",
          "polar": {
           "angularaxis": {
            "gridcolor": "white",
            "linecolor": "white",
            "ticks": ""
           },
           "bgcolor": "#E5ECF6",
           "radialaxis": {
            "gridcolor": "white",
            "linecolor": "white",
            "ticks": ""
           }
          },
          "scene": {
           "xaxis": {
            "backgroundcolor": "#E5ECF6",
            "gridcolor": "white",
            "gridwidth": 2,
            "linecolor": "white",
            "showbackground": true,
            "ticks": "",
            "zerolinecolor": "white"
           },
           "yaxis": {
            "backgroundcolor": "#E5ECF6",
            "gridcolor": "white",
            "gridwidth": 2,
            "linecolor": "white",
            "showbackground": true,
            "ticks": "",
            "zerolinecolor": "white"
           },
           "zaxis": {
            "backgroundcolor": "#E5ECF6",
            "gridcolor": "white",
            "gridwidth": 2,
            "linecolor": "white",
            "showbackground": true,
            "ticks": "",
            "zerolinecolor": "white"
           }
          },
          "shapedefaults": {
           "line": {
            "color": "#2a3f5f"
           }
          },
          "ternary": {
           "aaxis": {
            "gridcolor": "white",
            "linecolor": "white",
            "ticks": ""
           },
           "baxis": {
            "gridcolor": "white",
            "linecolor": "white",
            "ticks": ""
           },
           "bgcolor": "#E5ECF6",
           "caxis": {
            "gridcolor": "white",
            "linecolor": "white",
            "ticks": ""
           }
          },
          "title": {
           "x": 0.05
          },
          "xaxis": {
           "automargin": true,
           "gridcolor": "white",
           "linecolor": "white",
           "ticks": "",
           "title": {
            "standoff": 15
           },
           "zerolinecolor": "white",
           "zerolinewidth": 2
          },
          "yaxis": {
           "automargin": true,
           "gridcolor": "white",
           "linecolor": "white",
           "ticks": "",
           "title": {
            "standoff": 15
           },
           "zerolinecolor": "white",
           "zerolinewidth": 2
          }
         }
        },
        "width": 900,
        "xaxis": {
         "anchor": "y",
         "domain": [
          0,
          1
         ],
         "range": [
          "1948-05-10T04:48:00",
          "1962-07-23T19:12:00"
         ],
         "type": "date"
        },
        "xaxis2": {
         "anchor": "y2",
         "domain": [
          0,
          1
         ],
         "range": [
          "2016-12-30T12:37:12",
          "2017-01-31T22:58:48"
         ],
         "tickformat": "%B %e",
         "type": "date"
        },
        "xaxis3": {
         "anchor": "y3",
         "domain": [
          0,
          1
         ],
         "range": [
          "2016-12-13T18:54:02.958904",
          "2018-01-18T11:04:57.863013"
         ],
         "tickformat": "%B %e",
         "type": "date"
        },
        "yaxis": {
         "anchor": "x",
         "domain": [
          0.7333333333333333,
          1
         ],
         "rangemode": "normal",
         "title": {
          "text": "trend"
         },
         "zerolinecolor": "#AAA"
        },
        "yaxis2": {
         "anchor": "x2",
         "domain": [
          0.36666666666666664,
          0.6333333333333333
         ],
         "title": {
          "text": "monthly"
         },
         "zerolinecolor": "#AAA"
        },
        "yaxis3": {
         "anchor": "x3",
         "domain": [
          0,
          0.26666666666666666
         ],
         "title": {
          "text": "yearly"
         },
         "zerolinecolor": "#AAA"
        }
       }
      }
     },
     "metadata": {},
     "output_type": "display_data"
    }
   ],
   "source": [
    "from prophet.plot import plot_components_plotly\n",
    "\n",
    "plot_components_plotly(model, forecast)\n"
   ]
  },
  {
   "cell_type": "code",
   "execution_count": 25,
   "metadata": {},
   "outputs": [
    {
     "name": "stdout",
     "output_type": "stream",
     "text": [
      "SARIMA MAPE: 7.69%\n",
      "Prophet MAPE: 9.45%\n"
     ]
    }
   ],
   "source": [
    "#comparando prophet com SARIMA\n",
    "\n",
    "from sklearn.metrics import mean_absolute_percentage_error\n",
    "\n",
    "# Create test set (last 12 months)\n",
    "df_test = df.iloc[-12:]\n",
    "\n",
    "# Forecast using SARIMA\n",
    "sarima_forecast = best_model.forecast(steps=12)\n",
    "\n",
    "# Forecast using Prophet (already fitted)\n",
    "prophet_forecast = forecast['yhat'][-12:].values\n",
    "\n",
    "# Compare accuracy\n",
    "sarima_mape = mean_absolute_percentage_error(df_test['passengers'], sarima_forecast)\n",
    "prophet_mape = mean_absolute_percentage_error(df_test['passengers'], prophet_forecast)\n",
    "\n",
    "print(f\"SARIMA MAPE: {sarima_mape:.2%}\")\n",
    "print(f\"Prophet MAPE: {prophet_mape:.2%}\")"
   ]
  },
  {
   "cell_type": "code",
   "execution_count": null,
   "metadata": {},
   "outputs": [],
   "source": []
  }
 ],
 "metadata": {
  "kernelspec": {
   "display_name": "Python 3",
   "language": "python",
   "name": "python3"
  },
  "language_info": {
   "codemirror_mode": {
    "name": "ipython",
    "version": 3
   },
   "file_extension": ".py",
   "mimetype": "text/x-python",
   "name": "python",
   "nbconvert_exporter": "python",
   "pygments_lexer": "ipython3",
   "version": "3.11.4"
  }
 },
 "nbformat": 4,
 "nbformat_minor": 2
}
